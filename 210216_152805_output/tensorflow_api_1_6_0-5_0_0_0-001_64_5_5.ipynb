{
 "cells": [
  {
   "cell_type": "markdown",
   "metadata": {},
   "source": [
    "# Kaggle Titanic survival - TensorFlow api-based neural net.\n",
    "\n",
    "Taking https://github.com/MichaelAllen1966/1804_python_healthcare/blob/master/titanic/20b_tensorflow_api.ipynb and adapting the code to run in batch mode by making use of nbparameterise library.\n",
    "\n",
    "This workbook builds a neural network to predict survival on the titanic using the common framework TensorFlow (using keras).\n",
    "\n",
    "It can be run in standalone based on the parameter values defined in the first code cell.\n",
    "\n",
    "Alternatively, the notebook can be run in a batch mode by setting up the parameter values in \"batch_running_ipynb.ipynb\". That notebook will access the parameters in the first cell of this notebook and alter their value before running this notebook and saving it (with a unique name)."
   ]
  },
  {
   "cell_type": "markdown",
   "metadata": {},
   "source": [
    "# Parameters that can be changed in a batch run\n",
    "The first code cell needs to contain all of the parameters that can be changed in a batch run."
   ]
  },
  {
   "cell_type": "code",
   "execution_count": 1,
   "metadata": {
    "execution": {
     "iopub.execute_input": "2021-02-16T15:28:40.618920Z",
     "iopub.status.busy": "2021-02-16T15:28:40.618483Z",
     "iopub.status.idle": "2021-02-16T15:28:40.620461Z",
     "shell.execute_reply": "2021-02-16T15:28:40.620858Z"
    }
   },
   "outputs": [],
   "source": [
    "number_hidden_layers = 1\n",
    "number_nodes = 6\n",
    "dropout = 0.5\n",
    "wide_and_deep = 0\n",
    "single_final_hidden_layer = 0\n",
    "learning_rate = 0.001\n",
    "include_class_weights = 1\n",
    "calculation_batch_size = 64\n",
    "max_epoch = 5\n",
    "number_kfold = 5\n",
    "output_folder = '210216_152805_output'"
   ]
  },
  {
   "cell_type": "markdown",
   "metadata": {},
   "source": [
    "# Use the parameter values to create a string to be used as the model name"
   ]
  },
  {
   "cell_type": "code",
   "execution_count": 2,
   "metadata": {
    "execution": {
     "iopub.execute_input": "2021-02-16T15:28:40.624677Z",
     "iopub.status.busy": "2021-02-16T15:28:40.624133Z",
     "iopub.status.idle": "2021-02-16T15:28:40.626568Z",
     "shell.execute_reply": "2021-02-16T15:28:40.626099Z"
    }
   },
   "outputs": [],
   "source": [
    "# replace \".\" with a \"-\"\"\n",
    "learning_rate_str =  str(learning_rate).replace(\"0.\", \"0-\")\n",
    "dropout_str = str(dropout).replace(\"0.\", \"0-\")\n",
    "\n",
    "model_name = (f\"model_{number_hidden_layers}_{number_nodes}_{dropout_str}_\"\n",
    "              f\"{wide_and_deep}_{single_final_hidden_layer}_{learning_rate_str}\"\n",
    "              f\"_{calculation_batch_size}_{number_kfold}_{max_epoch}\")"
   ]
  },
  {
   "cell_type": "code",
   "execution_count": 3,
   "metadata": {
    "execution": {
     "iopub.execute_input": "2021-02-16T15:28:40.629768Z",
     "iopub.status.busy": "2021-02-16T15:28:40.629230Z",
     "iopub.status.idle": "2021-02-16T15:28:40.631617Z",
     "shell.execute_reply": "2021-02-16T15:28:40.631058Z"
    }
   },
   "outputs": [],
   "source": [
    "# Turn warnings off to keep notebook tidy\n",
    "import warnings\n",
    "warnings.filterwarnings(\"ignore\")"
   ]
  },
  {
   "cell_type": "markdown",
   "metadata": {},
   "source": [
    "## Load modules"
   ]
  },
  {
   "cell_type": "code",
   "execution_count": 4,
   "metadata": {
    "execution": {
     "iopub.execute_input": "2021-02-16T15:28:40.635801Z",
     "iopub.status.busy": "2021-02-16T15:28:40.635257Z",
     "iopub.status.idle": "2021-02-16T15:28:41.941361Z",
     "shell.execute_reply": "2021-02-16T15:28:41.940773Z"
    }
   },
   "outputs": [],
   "source": [
    "import numpy as np\n",
    "import pandas as pd\n",
    "\n",
    "# sklearn for pre-processing\n",
    "from sklearn.preprocessing import MinMaxScaler\n",
    "from sklearn.model_selection import StratifiedKFold\n",
    "\n",
    "# TensorFlow api model\n",
    "from tensorflow import keras\n",
    "from tensorflow.keras import layers\n",
    "from tensorflow.keras.models import Model\n",
    "from tensorflow.keras.optimizers import Adam\n",
    "from tensorflow.keras import backend as K\n",
    "from tensorflow.keras.losses import binary_crossentropy\n",
    "\n",
    "import os"
   ]
  },
  {
   "cell_type": "markdown",
   "metadata": {},
   "source": [
    "# Create output folder"
   ]
  },
  {
   "cell_type": "code",
   "execution_count": 5,
   "metadata": {
    "execution": {
     "iopub.execute_input": "2021-02-16T15:28:41.945910Z",
     "iopub.status.busy": "2021-02-16T15:28:41.945466Z",
     "iopub.status.idle": "2021-02-16T15:28:41.947467Z",
     "shell.execute_reply": "2021-02-16T15:28:41.947038Z"
    }
   },
   "outputs": [],
   "source": [
    "# if folder and subfolder don't exist, create them\n",
    "if not os.path.exists(f\"{output_folder}\"):\n",
    "    os.makedirs(f\"{output_folder}\")"
   ]
  },
  {
   "cell_type": "markdown",
   "metadata": {},
   "source": [
    "## Download data if not previously downloaded"
   ]
  },
  {
   "cell_type": "code",
   "execution_count": 6,
   "metadata": {
    "execution": {
     "iopub.execute_input": "2021-02-16T15:28:41.952521Z",
     "iopub.status.busy": "2021-02-16T15:28:41.951986Z",
     "iopub.status.idle": "2021-02-16T15:28:42.141221Z",
     "shell.execute_reply": "2021-02-16T15:28:42.140741Z"
    }
   },
   "outputs": [],
   "source": [
    "download_required = True\n",
    "\n",
    "if download_required:\n",
    "    \n",
    "    # Download processed data:\n",
    "    address = 'https://raw.githubusercontent.com/MichaelAllen1966/' + \\\n",
    "                '1804_python_healthcare/master/titanic/data/processed_data.csv'\n",
    "    \n",
    "    data = pd.read_csv(address)\n",
    "\n",
    "    # Create a data subfolder if one does not already exist\n",
    "    import os\n",
    "    data_directory ='./data/'\n",
    "    if not os.path.exists(data_directory):\n",
    "        os.makedirs(data_directory)\n",
    "\n",
    "    # Save data\n",
    "    data.to_csv(data_directory + 'processed_data.csv', index=False)"
   ]
  },
  {
   "cell_type": "markdown",
   "metadata": {},
   "source": [
    "## Define function to calculate accuracy measurements"
   ]
  },
  {
   "cell_type": "code",
   "execution_count": 7,
   "metadata": {
    "execution": {
     "iopub.execute_input": "2021-02-16T15:28:42.150048Z",
     "iopub.status.busy": "2021-02-16T15:28:42.149633Z",
     "iopub.status.idle": "2021-02-16T15:28:42.151561Z",
     "shell.execute_reply": "2021-02-16T15:28:42.151180Z"
    }
   },
   "outputs": [],
   "source": [
    "def calculate_accuracy(observed, predicted):\n",
    "    \n",
    "    \"\"\"\n",
    "    Calculates a range of accuracy scores from observed and predicted classes.\n",
    "    \n",
    "    Takes two list or NumPy arrays (observed class values, and predicted class \n",
    "    values), and returns a dictionary of results.\n",
    "    \n",
    "     1) observed positive rate: proportion of observed cases that are +ve\n",
    "     2) Predicted positive rate: proportion of predicted cases that are +ve\n",
    "     3) observed negative rate: proportion of observed cases that are -ve\n",
    "     4) Predicted negative rate: proportion of predicted cases that are -ve  \n",
    "     5) accuracy: proportion of predicted results that are correct    \n",
    "     6) precision: proportion of predicted +ve that are correct\n",
    "     7) recall: proportion of true +ve correctly identified\n",
    "     8) f1: harmonic mean of precision and recall\n",
    "     9) sensitivity: Same as recall\n",
    "    10) specificity: Proportion of true -ve identified:        \n",
    "    11) positive likelihood: increased probability of true +ve if test +ve\n",
    "    12) negative likelihood: reduced probability of true +ve if test -ve\n",
    "    13) false positive rate: proportion of false +ves in true -ve patients\n",
    "    14) false negative rate: proportion of false -ves in true +ve patients\n",
    "    15) true positive rate: Same as recall\n",
    "    16) true negative rate\n",
    "    17) positive predictive value: chance of true +ve if test +ve\n",
    "    18) negative predictive value: chance of true -ve if test -ve\n",
    "    \n",
    "    \"\"\"\n",
    "    \n",
    "    # Converts list to NumPy arrays\n",
    "    if type(observed) == list:\n",
    "        observed = np.array(observed)\n",
    "    if type(predicted) == list:\n",
    "        predicted = np.array(predicted)\n",
    "    \n",
    "    # Calculate accuracy scores\n",
    "    observed_positives = observed == 1\n",
    "    observed_negatives = observed == 0\n",
    "    predicted_positives = predicted == 1\n",
    "    predicted_negatives = predicted == 0\n",
    "    \n",
    "    true_positives = (predicted_positives == 1) & (observed_positives == 1)\n",
    "    \n",
    "    false_positives = (predicted_positives == 1) & (observed_positives == 0)\n",
    "    \n",
    "    true_negatives = (predicted_negatives == 1) & (observed_negatives == 1)\n",
    "    \n",
    "    accuracy = np.mean(predicted == observed)\n",
    "    \n",
    "    precision = (np.sum(true_positives) /\n",
    "                 (np.sum(true_positives) + np.sum(false_positives)))\n",
    "        \n",
    "    recall = np.sum(true_positives) / np.sum(observed_positives)\n",
    "    \n",
    "    sensitivity = recall\n",
    "    \n",
    "    f1 = 2 * ((precision * recall) / (precision + recall))\n",
    "    \n",
    "    specificity = np.sum(true_negatives) / np.sum(observed_negatives)\n",
    "    \n",
    "    positive_likelihood = sensitivity / (1 - specificity)\n",
    "    \n",
    "    negative_likelihood = (1 - sensitivity) / specificity\n",
    "    \n",
    "    false_positive_rate = 1 - specificity\n",
    "    \n",
    "    false_negative_rate = 1 - sensitivity\n",
    "    \n",
    "    true_positive_rate = sensitivity\n",
    "    \n",
    "    true_negative_rate = specificity\n",
    "    \n",
    "    positive_predictive_value = (np.sum(true_positives) / \n",
    "                                 np.sum(observed_positives))\n",
    "    \n",
    "    negative_predictive_value = (np.sum(true_negatives) / \n",
    "                                  np.sum(observed_positives))\n",
    "    \n",
    "    # Create dictionary for results, and add results\n",
    "    results = dict()\n",
    "    \n",
    "    results['observed_positive_rate'] = np.mean(observed_positives)\n",
    "    results['observed_negative_rate'] = np.mean(observed_negatives)\n",
    "    results['predicted_positive_rate'] = np.mean(predicted_positives)\n",
    "    results['predicted_negative_rate'] = np.mean(predicted_negatives)\n",
    "    results['accuracy'] = accuracy\n",
    "    results['precision'] = precision\n",
    "    results['recall'] = recall\n",
    "    results['f1'] = f1\n",
    "    results['sensitivity'] = sensitivity\n",
    "    results['specificity'] = specificity\n",
    "    results['positive_likelihood'] = positive_likelihood\n",
    "    results['negative_likelihood'] = negative_likelihood\n",
    "    results['false_positive_rate'] = false_positive_rate\n",
    "    results['false_negative_rate'] = false_negative_rate\n",
    "    results['true_positive_rate'] = true_positive_rate\n",
    "    results['true_negative_rate'] = true_negative_rate\n",
    "    results['positive_predictive_value'] = positive_predictive_value\n",
    "    results['negative_predictive_value'] = negative_predictive_value\n",
    "    \n",
    "    return results"
   ]
  },
  {
   "cell_type": "markdown",
   "metadata": {},
   "source": [
    "## Define function to scale data\n",
    "\n",
    "In neural networks it is common to to scale input data 0-1 rather than use standardisation (subtracting mean and dividing by standard deviation) of each feature)."
   ]
  },
  {
   "cell_type": "code",
   "execution_count": 8,
   "metadata": {
    "execution": {
     "iopub.execute_input": "2021-02-16T15:28:42.154378Z",
     "iopub.status.busy": "2021-02-16T15:28:42.154005Z",
     "iopub.status.idle": "2021-02-16T15:28:42.155732Z",
     "shell.execute_reply": "2021-02-16T15:28:42.155349Z"
    }
   },
   "outputs": [],
   "source": [
    "def scale_data(X_train, X_test):\n",
    "    \"\"\"Scale data 0-1 based on min and max in training set\"\"\"\n",
    "    \n",
    "    # Initialise a new scaling object for normalising input data\n",
    "    sc = MinMaxScaler()\n",
    "\n",
    "    # Set up the scaler just on the training set\n",
    "    sc.fit(X_train)\n",
    "\n",
    "    # Apply the scaler to the training and test sets\n",
    "    train_sc = sc.transform(X_train)\n",
    "    test_sc = sc.transform(X_test)\n",
    "    \n",
    "    return train_sc, test_sc\n",
    "    "
   ]
  },
  {
   "cell_type": "markdown",
   "metadata": {},
   "source": [
    "## Load data"
   ]
  },
  {
   "cell_type": "code",
   "execution_count": 9,
   "metadata": {
    "execution": {
     "iopub.execute_input": "2021-02-16T15:28:42.158616Z",
     "iopub.status.busy": "2021-02-16T15:28:42.158241Z",
     "iopub.status.idle": "2021-02-16T15:28:42.164736Z",
     "shell.execute_reply": "2021-02-16T15:28:42.164350Z"
    }
   },
   "outputs": [],
   "source": [
    "data = pd.read_csv('data/processed_data.csv')\n",
    "# Make all data 'float' type\n",
    "data = data.astype(float)\n",
    "data.drop('PassengerId', inplace=True, axis=1)\n",
    "X = data.drop('Survived',axis=1) # X = all 'data' except the 'survived' column\n",
    "y = data['Survived'] # y = 'survived' column from 'data'\n",
    "# Convert to NumPy as required for k-fold splits\n",
    "X_np = X.values\n",
    "y_np = y.values"
   ]
  },
  {
   "cell_type": "markdown",
   "metadata": {},
   "source": [
    "Take a look at the data"
   ]
  },
  {
   "cell_type": "code",
   "execution_count": 10,
   "metadata": {
    "execution": {
     "iopub.execute_input": "2021-02-16T15:28:42.169557Z",
     "iopub.status.busy": "2021-02-16T15:28:42.168440Z",
     "iopub.status.idle": "2021-02-16T15:28:42.229691Z",
     "shell.execute_reply": "2021-02-16T15:28:42.229378Z"
    }
   },
   "outputs": [
    {
     "data": {
      "text/html": [
       "<div>\n",
       "<style scoped>\n",
       "    .dataframe tbody tr th:only-of-type {\n",
       "        vertical-align: middle;\n",
       "    }\n",
       "\n",
       "    .dataframe tbody tr th {\n",
       "        vertical-align: top;\n",
       "    }\n",
       "\n",
       "    .dataframe thead th {\n",
       "        text-align: right;\n",
       "    }\n",
       "</style>\n",
       "<table border=\"1\" class=\"dataframe\">\n",
       "  <thead>\n",
       "    <tr style=\"text-align: right;\">\n",
       "      <th></th>\n",
       "      <th>Survived</th>\n",
       "      <th>Pclass</th>\n",
       "      <th>Age</th>\n",
       "      <th>SibSp</th>\n",
       "      <th>Parch</th>\n",
       "      <th>Fare</th>\n",
       "      <th>AgeImputed</th>\n",
       "      <th>EmbarkedImputed</th>\n",
       "      <th>CabinLetterImputed</th>\n",
       "      <th>CabinNumber</th>\n",
       "      <th>...</th>\n",
       "      <th>Embarked_missing</th>\n",
       "      <th>CabinLetter_A</th>\n",
       "      <th>CabinLetter_B</th>\n",
       "      <th>CabinLetter_C</th>\n",
       "      <th>CabinLetter_D</th>\n",
       "      <th>CabinLetter_E</th>\n",
       "      <th>CabinLetter_F</th>\n",
       "      <th>CabinLetter_G</th>\n",
       "      <th>CabinLetter_T</th>\n",
       "      <th>CabinLetter_missing</th>\n",
       "    </tr>\n",
       "  </thead>\n",
       "  <tbody>\n",
       "    <tr>\n",
       "      <th>count</th>\n",
       "      <td>891.000000</td>\n",
       "      <td>891.000000</td>\n",
       "      <td>891.000000</td>\n",
       "      <td>891.000000</td>\n",
       "      <td>891.000000</td>\n",
       "      <td>891.000000</td>\n",
       "      <td>891.000000</td>\n",
       "      <td>891.000000</td>\n",
       "      <td>891.000000</td>\n",
       "      <td>891.000000</td>\n",
       "      <td>...</td>\n",
       "      <td>891.000000</td>\n",
       "      <td>891.000000</td>\n",
       "      <td>891.000000</td>\n",
       "      <td>891.000000</td>\n",
       "      <td>891.000000</td>\n",
       "      <td>891.000000</td>\n",
       "      <td>891.000000</td>\n",
       "      <td>891.000000</td>\n",
       "      <td>891.000000</td>\n",
       "      <td>891.000000</td>\n",
       "    </tr>\n",
       "    <tr>\n",
       "      <th>mean</th>\n",
       "      <td>0.383838</td>\n",
       "      <td>2.308642</td>\n",
       "      <td>29.361582</td>\n",
       "      <td>0.523008</td>\n",
       "      <td>0.381594</td>\n",
       "      <td>32.204208</td>\n",
       "      <td>0.198653</td>\n",
       "      <td>0.002245</td>\n",
       "      <td>0.771044</td>\n",
       "      <td>11.021324</td>\n",
       "      <td>...</td>\n",
       "      <td>0.002245</td>\n",
       "      <td>0.016835</td>\n",
       "      <td>0.052750</td>\n",
       "      <td>0.066218</td>\n",
       "      <td>0.037037</td>\n",
       "      <td>0.035915</td>\n",
       "      <td>0.014590</td>\n",
       "      <td>0.004489</td>\n",
       "      <td>0.001122</td>\n",
       "      <td>0.771044</td>\n",
       "    </tr>\n",
       "    <tr>\n",
       "      <th>std</th>\n",
       "      <td>0.486592</td>\n",
       "      <td>0.836071</td>\n",
       "      <td>13.019697</td>\n",
       "      <td>1.102743</td>\n",
       "      <td>0.806057</td>\n",
       "      <td>49.693429</td>\n",
       "      <td>0.399210</td>\n",
       "      <td>0.047351</td>\n",
       "      <td>0.420397</td>\n",
       "      <td>26.638204</td>\n",
       "      <td>...</td>\n",
       "      <td>0.047351</td>\n",
       "      <td>0.128725</td>\n",
       "      <td>0.223659</td>\n",
       "      <td>0.248802</td>\n",
       "      <td>0.188959</td>\n",
       "      <td>0.186182</td>\n",
       "      <td>0.119973</td>\n",
       "      <td>0.066890</td>\n",
       "      <td>0.033501</td>\n",
       "      <td>0.420397</td>\n",
       "    </tr>\n",
       "    <tr>\n",
       "      <th>min</th>\n",
       "      <td>0.000000</td>\n",
       "      <td>1.000000</td>\n",
       "      <td>0.420000</td>\n",
       "      <td>0.000000</td>\n",
       "      <td>0.000000</td>\n",
       "      <td>0.000000</td>\n",
       "      <td>0.000000</td>\n",
       "      <td>0.000000</td>\n",
       "      <td>0.000000</td>\n",
       "      <td>0.000000</td>\n",
       "      <td>...</td>\n",
       "      <td>0.000000</td>\n",
       "      <td>0.000000</td>\n",
       "      <td>0.000000</td>\n",
       "      <td>0.000000</td>\n",
       "      <td>0.000000</td>\n",
       "      <td>0.000000</td>\n",
       "      <td>0.000000</td>\n",
       "      <td>0.000000</td>\n",
       "      <td>0.000000</td>\n",
       "      <td>0.000000</td>\n",
       "    </tr>\n",
       "    <tr>\n",
       "      <th>25%</th>\n",
       "      <td>0.000000</td>\n",
       "      <td>2.000000</td>\n",
       "      <td>22.000000</td>\n",
       "      <td>0.000000</td>\n",
       "      <td>0.000000</td>\n",
       "      <td>7.910400</td>\n",
       "      <td>0.000000</td>\n",
       "      <td>0.000000</td>\n",
       "      <td>1.000000</td>\n",
       "      <td>0.000000</td>\n",
       "      <td>...</td>\n",
       "      <td>0.000000</td>\n",
       "      <td>0.000000</td>\n",
       "      <td>0.000000</td>\n",
       "      <td>0.000000</td>\n",
       "      <td>0.000000</td>\n",
       "      <td>0.000000</td>\n",
       "      <td>0.000000</td>\n",
       "      <td>0.000000</td>\n",
       "      <td>0.000000</td>\n",
       "      <td>1.000000</td>\n",
       "    </tr>\n",
       "    <tr>\n",
       "      <th>50%</th>\n",
       "      <td>0.000000</td>\n",
       "      <td>3.000000</td>\n",
       "      <td>28.000000</td>\n",
       "      <td>0.000000</td>\n",
       "      <td>0.000000</td>\n",
       "      <td>14.454200</td>\n",
       "      <td>0.000000</td>\n",
       "      <td>0.000000</td>\n",
       "      <td>1.000000</td>\n",
       "      <td>0.000000</td>\n",
       "      <td>...</td>\n",
       "      <td>0.000000</td>\n",
       "      <td>0.000000</td>\n",
       "      <td>0.000000</td>\n",
       "      <td>0.000000</td>\n",
       "      <td>0.000000</td>\n",
       "      <td>0.000000</td>\n",
       "      <td>0.000000</td>\n",
       "      <td>0.000000</td>\n",
       "      <td>0.000000</td>\n",
       "      <td>1.000000</td>\n",
       "    </tr>\n",
       "    <tr>\n",
       "      <th>75%</th>\n",
       "      <td>1.000000</td>\n",
       "      <td>3.000000</td>\n",
       "      <td>35.000000</td>\n",
       "      <td>1.000000</td>\n",
       "      <td>0.000000</td>\n",
       "      <td>31.000000</td>\n",
       "      <td>0.000000</td>\n",
       "      <td>0.000000</td>\n",
       "      <td>1.000000</td>\n",
       "      <td>0.000000</td>\n",
       "      <td>...</td>\n",
       "      <td>0.000000</td>\n",
       "      <td>0.000000</td>\n",
       "      <td>0.000000</td>\n",
       "      <td>0.000000</td>\n",
       "      <td>0.000000</td>\n",
       "      <td>0.000000</td>\n",
       "      <td>0.000000</td>\n",
       "      <td>0.000000</td>\n",
       "      <td>0.000000</td>\n",
       "      <td>1.000000</td>\n",
       "    </tr>\n",
       "    <tr>\n",
       "      <th>max</th>\n",
       "      <td>1.000000</td>\n",
       "      <td>3.000000</td>\n",
       "      <td>80.000000</td>\n",
       "      <td>8.000000</td>\n",
       "      <td>6.000000</td>\n",
       "      <td>512.329200</td>\n",
       "      <td>1.000000</td>\n",
       "      <td>1.000000</td>\n",
       "      <td>1.000000</td>\n",
       "      <td>148.000000</td>\n",
       "      <td>...</td>\n",
       "      <td>1.000000</td>\n",
       "      <td>1.000000</td>\n",
       "      <td>1.000000</td>\n",
       "      <td>1.000000</td>\n",
       "      <td>1.000000</td>\n",
       "      <td>1.000000</td>\n",
       "      <td>1.000000</td>\n",
       "      <td>1.000000</td>\n",
       "      <td>1.000000</td>\n",
       "      <td>1.000000</td>\n",
       "    </tr>\n",
       "  </tbody>\n",
       "</table>\n",
       "<p>8 rows × 25 columns</p>\n",
       "</div>"
      ],
      "text/plain": [
       "         Survived      Pclass         Age       SibSp       Parch        Fare  \\\n",
       "count  891.000000  891.000000  891.000000  891.000000  891.000000  891.000000   \n",
       "mean     0.383838    2.308642   29.361582    0.523008    0.381594   32.204208   \n",
       "std      0.486592    0.836071   13.019697    1.102743    0.806057   49.693429   \n",
       "min      0.000000    1.000000    0.420000    0.000000    0.000000    0.000000   \n",
       "25%      0.000000    2.000000   22.000000    0.000000    0.000000    7.910400   \n",
       "50%      0.000000    3.000000   28.000000    0.000000    0.000000   14.454200   \n",
       "75%      1.000000    3.000000   35.000000    1.000000    0.000000   31.000000   \n",
       "max      1.000000    3.000000   80.000000    8.000000    6.000000  512.329200   \n",
       "\n",
       "       AgeImputed  EmbarkedImputed  CabinLetterImputed  CabinNumber  ...  \\\n",
       "count  891.000000       891.000000          891.000000   891.000000  ...   \n",
       "mean     0.198653         0.002245            0.771044    11.021324  ...   \n",
       "std      0.399210         0.047351            0.420397    26.638204  ...   \n",
       "min      0.000000         0.000000            0.000000     0.000000  ...   \n",
       "25%      0.000000         0.000000            1.000000     0.000000  ...   \n",
       "50%      0.000000         0.000000            1.000000     0.000000  ...   \n",
       "75%      0.000000         0.000000            1.000000     0.000000  ...   \n",
       "max      1.000000         1.000000            1.000000   148.000000  ...   \n",
       "\n",
       "       Embarked_missing  CabinLetter_A  CabinLetter_B  CabinLetter_C  \\\n",
       "count        891.000000     891.000000     891.000000     891.000000   \n",
       "mean           0.002245       0.016835       0.052750       0.066218   \n",
       "std            0.047351       0.128725       0.223659       0.248802   \n",
       "min            0.000000       0.000000       0.000000       0.000000   \n",
       "25%            0.000000       0.000000       0.000000       0.000000   \n",
       "50%            0.000000       0.000000       0.000000       0.000000   \n",
       "75%            0.000000       0.000000       0.000000       0.000000   \n",
       "max            1.000000       1.000000       1.000000       1.000000   \n",
       "\n",
       "       CabinLetter_D  CabinLetter_E  CabinLetter_F  CabinLetter_G  \\\n",
       "count     891.000000     891.000000     891.000000     891.000000   \n",
       "mean        0.037037       0.035915       0.014590       0.004489   \n",
       "std         0.188959       0.186182       0.119973       0.066890   \n",
       "min         0.000000       0.000000       0.000000       0.000000   \n",
       "25%         0.000000       0.000000       0.000000       0.000000   \n",
       "50%         0.000000       0.000000       0.000000       0.000000   \n",
       "75%         0.000000       0.000000       0.000000       0.000000   \n",
       "max         1.000000       1.000000       1.000000       1.000000   \n",
       "\n",
       "       CabinLetter_T  CabinLetter_missing  \n",
       "count     891.000000           891.000000  \n",
       "mean        0.001122             0.771044  \n",
       "std         0.033501             0.420397  \n",
       "min         0.000000             0.000000  \n",
       "25%         0.000000             1.000000  \n",
       "50%         0.000000             1.000000  \n",
       "75%         0.000000             1.000000  \n",
       "max         1.000000             1.000000  \n",
       "\n",
       "[8 rows x 25 columns]"
      ]
     },
     "execution_count": 1,
     "metadata": {},
     "output_type": "execute_result"
    }
   ],
   "source": [
    "data.describe()"
   ]
  },
  {
   "cell_type": "markdown",
   "metadata": {},
   "source": [
    "# Set up neural net\n",
    "\n",
    "Here we use the api-based method to set up a TensorFlow neural network. This method allows us\n",
    "to more flexibly define the inputs for each layer (it would not be possible to dynamically change the wide and deep or single final layer using the Sequential method).\n",
    "\n",
    "We will put construction of the neural net into a separate function. We need a function for each option of number of hidden layers as this aspect is not possible to dynamically change using the api-based method.\n",
    "\n",
    "The inputs are connected to up to three hidden layers. Each layer having the number of nodes that is a multiple of the number of inputs (up to x 10), before being connected to an output node that give a probability of being a category. It is an option for the input values to feed directly into the output node (along with the final hidden layer) - known as wide and deep. Another option is to have an additional layer prior to the output layer that contains a single node.\n",
    "\n",
    "It also contains some useful additions (batch normalisation and dropout) as described below.\n",
    "\n",
    "The layers of the network are:\n",
    "\n",
    "1) An input layer (which needs to be defined)\n",
    "\n",
    "2) A fully-connected (dense) layer. This is defined by the number of inputs (the number of input features) and the number of outputs. The number of outputs is a multuiple of the number of inputs (up to 10 x). The output of the layer uses ReLU (rectified linear unit) activation. ReLU activation is most common for the inner layers of a neural network. Negative input values are set to zero. Positive input values are left unchanged.\n",
    "\n",
    "3) A batch normalisation layer. This is not usually used for small models, but can increase the speed of training for larger models. It is added here as an example of how to include it (in large models all dense layers would be followed by a batch normalisation layer). The layer definition includes the number of inputs to normalise. \n",
    "\n",
    "4) A dropout layer. This layer randomly sets outputs from the preceding layer to zero during training (a different set of outputs is zeroed for each training iteration). This helps prevent over-fitting of the model to the training data. Typically between 0.1 and 0.3 outputs are set to zero (p=0.1 means 10% of outputs are set to zero).\n",
    "\n",
    "The above three layers are then repeated up to 3 times.\n",
    "\n",
    "5) The option of a single node final layer\n",
    "\n",
    "6) A final fully connected linear layer of one nodes (more nodes could be used for more classes, in which case use softmax activation and categorical_crossentropy in the loss function). The output of the net is the probability of surviving (usually a probability of >= 0.5 will be classes as ‘survived’). Option to feed the input values into this output layer."
   ]
  },
  {
   "cell_type": "code",
   "execution_count": 11,
   "metadata": {
    "execution": {
     "iopub.execute_input": "2021-02-16T15:28:42.234966Z",
     "iopub.status.busy": "2021-02-16T15:28:42.231136Z",
     "iopub.status.idle": "2021-02-16T15:28:42.236772Z",
     "shell.execute_reply": "2021-02-16T15:28:42.236395Z"
    }
   },
   "outputs": [],
   "source": [
    "def make_net_1_hidden_layer(number_features, number_nodes = 5, \n",
    "                            dropout_rate = 0.25, wide_and_deep = 0, \n",
    "                            single_final_hidden_layer = 0, \n",
    "                            learning_rate = 0.003):\n",
    "    \n",
    "    #create a network with 1 hidden layer\n",
    "    \n",
    "    # Clear Tensorflow\n",
    "    K.clear_session()\n",
    "    \n",
    "    # Define layers\n",
    "    inputs = layers.Input(shape=number_features)\n",
    "    \n",
    "    dense_1 = layers.Dense(number_features * number_nodes, \n",
    "                           activation = 'relu')(inputs)\n",
    "    norm_1 = layers.BatchNormalization()(dense_1)    \n",
    "    dropout_1 = layers.Dropout(dropout_rate)(norm_1)\n",
    "        \n",
    "    if wide_and_deep == 1:\n",
    "        # Create a layer that concatenates last dense layer and the input layer\n",
    "        concat = layers.Concatenate()([inputs, dropout_1])\n",
    "        \n",
    "        if single_final_hidden_layer == 0:\n",
    "            # wide deep goes to output layer\n",
    "            outputs = layers.Dense(1, activation = 'sigmoid')(concat)\n",
    "\n",
    "        else:\n",
    "            # wide deep goes a final hidden layer with 1 node\n",
    "            single_node = layers.Dense(1, activation = 'sigmoid')(concat)\n",
    "            # then into output layer\n",
    "            outputs = layers.Dense(1, activation = 'sigmoid')(single_node)\n",
    "            \n",
    "    else:\n",
    "        if single_final_hidden_layer == 0:\n",
    "            # not include a final hidden layer with 1 node\n",
    "            outputs = layers.Dense(1, activation = 'sigmoid')(dropout_1)\n",
    "            \n",
    "        else:\n",
    "            # include a final hidden layer with 1 node\n",
    "            single_node = layers.Dense(1, activation = 'sigmoid')(dropout_1)\n",
    "            # then into output layer\n",
    "            outputs = layers.Dense(1, activation = 'sigmoid')(single_node)\n",
    "            \n",
    "    net = Model(inputs, outputs)\n",
    "    \n",
    "    # Compiling model\n",
    "    opt = Adam(lr = learning_rate)\n",
    "    \n",
    "    net.compile(loss = 'binary_crossentropy',\n",
    "                optimizer = opt,\n",
    "                metrics = ['accuracy'])\n",
    "    return net"
   ]
  },
  {
   "cell_type": "code",
   "execution_count": 12,
   "metadata": {
    "execution": {
     "iopub.execute_input": "2021-02-16T15:28:42.242323Z",
     "iopub.status.busy": "2021-02-16T15:28:42.238127Z",
     "iopub.status.idle": "2021-02-16T15:28:42.244094Z",
     "shell.execute_reply": "2021-02-16T15:28:42.243717Z"
    }
   },
   "outputs": [],
   "source": [
    "def make_net_2_hidden_layers(number_features, number_nodes = 5, \n",
    "                             dropout_rate = 0.25, wide_and_deep = 0, \n",
    "                             single_final_hidden_layer = 0, \n",
    "                             learning_rate = 0.003):\n",
    "    \n",
    "    #create a network with 2 hidden layers\n",
    "    \n",
    "    # Clear Tensorflow\n",
    "    K.clear_session()\n",
    "    \n",
    "    # Define layers\n",
    "    inputs = layers.Input(shape=number_features)\n",
    "    \n",
    "    dense_1 = layers.Dense(number_features * number_nodes,\n",
    "                           activation = 'relu')(inputs)\n",
    "    norm_1 = layers.BatchNormalization()(dense_1)    \n",
    "    dropout_1 = layers.Dropout(dropout_rate)(norm_1)\n",
    "    \n",
    "    dense_2 = layers.Dense(number_features * number_nodes, \n",
    "                           activation = 'relu')(dropout_1)\n",
    "    norm_2 = layers.BatchNormalization()(dense_2)\n",
    "    dropout_2 = layers.Dropout(dropout_rate)(norm_2)\n",
    "    \n",
    "    if wide_and_deep == 1:\n",
    "        # Create a layer that concatenates last dense layer and the input layer\n",
    "        concat = layers.Concatenate()([inputs, dropout_2])\n",
    "        \n",
    "        if single_final_hidden_layer == 0:\n",
    "            # wide deep goes to output layer\n",
    "            outputs = layers.Dense(1, activation = 'sigmoid')(concat)\n",
    "\n",
    "        else:\n",
    "            # wide deep goes a final hidden layer with 1 node\n",
    "            single_node = layers.Dense(1, activation = 'sigmoid')(concat)\n",
    "            # then into output layer\n",
    "            outputs = layers.Dense(1, activation = 'sigmoid')(single_node)\n",
    "            \n",
    "    else:\n",
    "        if single_final_hidden_layer == 0:\n",
    "            # not include a final hidden layer with 1 node\n",
    "            outputs = layers.Dense(1, activation = 'sigmoid')(dropout_2)\n",
    "            \n",
    "        else:\n",
    "            # include a final hidden layer with 1 node\n",
    "            single_node = layers.Dense(1, activation = 'sigmoid')(dropout_2)\n",
    "            # then into output layer\n",
    "            outputs = layers.Dense(1, activation = 'sigmoid')(single_node)\n",
    "   \n",
    "    net = Model(inputs, outputs)\n",
    "    \n",
    "    # Compiling model\n",
    "    opt = Adam(lr = learning_rate)\n",
    "    \n",
    "    net.compile(loss = 'binary_crossentropy',\n",
    "                optimizer = opt,\n",
    "                metrics = ['accuracy'])\n",
    "    return net"
   ]
  },
  {
   "cell_type": "code",
   "execution_count": 13,
   "metadata": {
    "execution": {
     "iopub.execute_input": "2021-02-16T15:28:42.250428Z",
     "iopub.status.busy": "2021-02-16T15:28:42.250041Z",
     "iopub.status.idle": "2021-02-16T15:28:42.251858Z",
     "shell.execute_reply": "2021-02-16T15:28:42.251475Z"
    }
   },
   "outputs": [],
   "source": [
    "def make_net_3_hidden_layers(number_features, number_nodes = 5, \n",
    "                             dropout_rate = 0.25, wide_and_deep = 0, \n",
    "                             single_final_hidden_layer = 0, \n",
    "                             learning_rate = 0.003):\n",
    "    \n",
    "    #create a network with 3 hidden layers\n",
    "    \n",
    "    # Clear Tensorflow\n",
    "    K.clear_session()\n",
    "    \n",
    "    # Define layers\n",
    "    inputs = layers.Input(shape=number_features)\n",
    "    \n",
    "    dense_1 = layers.Dense(number_features * number_nodes, \n",
    "                           activation = 'relu')(inputs)\n",
    "    norm_1 = layers.BatchNormalization()(dense_1)    \n",
    "    dropout_1 = layers.Dropout(dropout_rate)(norm_1)\n",
    "    \n",
    "    dense_2 = layers.Dense(number_features * number_nodes, \n",
    "                           activation = 'relu')(dropout_1)\n",
    "    norm_2 = layers.BatchNormalization()(dense_2)\n",
    "    dropout_2 = layers.Dropout(dropout_rate)(norm_2)\n",
    "    \n",
    "    dense_3 = layers.Dense(number_features * number_nodes, \n",
    "                           activation = 'relu')(dropout_2)\n",
    "    norm_3 = layers.BatchNormalization()(dense_3)\n",
    "    dropout_3 = layers.Dropout(dropout_rate)(norm_3)\n",
    "    \n",
    "    if wide_and_deep == 1:\n",
    "        # Create a layer that concatenates last dense layer and the input layer\n",
    "        concat = layers.Concatenate()([inputs, dropout_3])\n",
    "        \n",
    "        if single_final_hidden_layer == 0:\n",
    "            # wide deep goes to output layer\n",
    "            outputs = layers.Dense(1, activation = 'sigmoid')(concat)\n",
    "\n",
    "        else:\n",
    "            # wide deep goes a final hidden layer with 1 node\n",
    "            single_node = layers.Dense(1, activation = 'sigmoid')(concat)\n",
    "            # then into output layer\n",
    "            outputs = layers.Dense(1, activation = 'sigmoid')(single_node)\n",
    "            \n",
    "    else:\n",
    "        if single_final_hidden_layer == 0:\n",
    "            # not include a final hidden layer with 1 node\n",
    "            outputs = layers.Dense(1, activation = 'sigmoid')(dropout_3)\n",
    "            \n",
    "        else:\n",
    "            # include a final hidden layer with 1 node\n",
    "            single_node = layers.Dense(1, activation = 'sigmoid')(dropout_3)\n",
    "            # then into output layer\n",
    "            outputs = layers.Dense(1, activation = 'sigmoid')(single_node)\n",
    "        \n",
    "    net = Model(inputs, outputs)\n",
    "    \n",
    "    # Compiling model\n",
    "    opt = Adam(lr = learning_rate)\n",
    "    \n",
    "    net.compile(loss = 'binary_crossentropy',\n",
    "                optimizer = opt,\n",
    "                metrics = ['accuracy'])\n",
    "    return net"
   ]
  },
  {
   "cell_type": "code",
   "execution_count": 14,
   "metadata": {
    "execution": {
     "iopub.execute_input": "2021-02-16T15:28:42.255515Z",
     "iopub.status.busy": "2021-02-16T15:28:42.255144Z",
     "iopub.status.idle": "2021-02-16T15:28:42.256978Z",
     "shell.execute_reply": "2021-02-16T15:28:42.256601Z"
    }
   },
   "outputs": [],
   "source": [
    "def make_net(number_hidden_layers, number_features, number_nodes, dropout_rate, \n",
    "             wide_and_deep, single_final_hidden_layer, learning_rate):\n",
    "\n",
    "    if number_hidden_layers == 1:\n",
    "        model = make_net_1_hidden_layer(number_features, number_nodes, \n",
    "                                        dropout_rate, wide_and_deep, \n",
    "                                        single_final_hidden_layer,\n",
    "                                        learning_rate)\n",
    "    elif number_hidden_layers == 2:\n",
    "        model = make_net_2_hidden_layers(number_features, number_nodes, \n",
    "                                         dropout_rate, wide_and_deep, \n",
    "                                         single_final_hidden_layer, \n",
    "                                         learning_rate)\n",
    "    elif number_hidden_layers == 3:\n",
    "        model = make_net_3_hidden_layers(number_features, number_nodes, \n",
    "                                         dropout_rate, wide_and_deep, \n",
    "                                         single_final_hidden_layer, \n",
    "                                         learning_rate)\n",
    "    else:\n",
    "        print(f\"User requested {number_hidden_layers} hidden layers, this \"\n",
    "              f\"option is not currently possible, a network will be created \"\n",
    "              f\"with 3 hidden layers.\")\n",
    "        model = make_net_3(number_features, number_nodes, dropout_rate, \n",
    "                           wide_and_deep, single_final_hidden_layer, \n",
    "                           learning_rate)\n",
    "    return(model)"
   ]
  },
  {
   "cell_type": "markdown",
   "metadata": {},
   "source": [
    "## Run the model with k-fold validation"
   ]
  },
  {
   "cell_type": "code",
   "execution_count": 15,
   "metadata": {
    "execution": {
     "iopub.execute_input": "2021-02-16T15:28:42.262442Z",
     "iopub.status.busy": "2021-02-16T15:28:42.262061Z",
     "iopub.status.idle": "2021-02-16T15:28:48.151675Z",
     "shell.execute_reply": "2021-02-16T15:28:48.151219Z"
    }
   },
   "outputs": [
    {
     "name": "stdout",
     "output_type": "stream",
     "text": [
      "K_fold 1\n"
     ]
    },
    {
     "name": "stdout",
     "output_type": "stream",
     "text": [
      "Model: \"model\"\n",
      "_________________________________________________________________\n",
      "Layer (type)                 Output Shape              Param #   \n",
      "=================================================================\n",
      "input_1 (InputLayer)         [(None, 24)]              0         \n",
      "_________________________________________________________________\n",
      "dense (Dense)                (None, 144)               3600      \n",
      "_________________________________________________________________\n",
      "batch_normalization (BatchNo (None, 144)               576       \n",
      "_________________________________________________________________\n",
      "dropout (Dropout)            (None, 144)               0         \n",
      "_________________________________________________________________\n",
      "dense_1 (Dense)              (None, 1)                 145       \n",
      "=================================================================\n",
      "Total params: 4,321\n",
      "Trainable params: 4,033\n",
      "Non-trainable params: 288\n",
      "_________________________________________________________________\n"
     ]
    },
    {
     "name": "stdout",
     "output_type": "stream",
     "text": [
      "K_fold 2\n",
      "Model: \"model\"\n",
      "_________________________________________________________________\n",
      "Layer (type)                 Output Shape              Param #   \n",
      "=================================================================\n",
      "input_1 (InputLayer)         [(None, 24)]              0         \n",
      "_________________________________________________________________\n",
      "dense (Dense)                (None, 144)               3600      \n",
      "_________________________________________________________________\n",
      "batch_normalization (BatchNo (None, 144)               576       \n",
      "_________________________________________________________________\n",
      "dropout (Dropout)            (None, 144)               0         \n",
      "_________________________________________________________________\n",
      "dense_1 (Dense)              (None, 1)                 145       \n",
      "=================================================================\n",
      "Total params: 4,321\n",
      "Trainable params: 4,033\n",
      "Non-trainable params: 288\n",
      "_________________________________________________________________\n"
     ]
    },
    {
     "name": "stdout",
     "output_type": "stream",
     "text": [
      "K_fold 3\n",
      "Model: \"model\"\n",
      "_________________________________________________________________\n",
      "Layer (type)                 Output Shape              Param #   \n",
      "=================================================================\n",
      "input_1 (InputLayer)         [(None, 24)]              0         \n",
      "_________________________________________________________________\n",
      "dense (Dense)                (None, 144)               3600      \n",
      "_________________________________________________________________\n",
      "batch_normalization (BatchNo (None, 144)               576       \n",
      "_________________________________________________________________\n",
      "dropout (Dropout)            (None, 144)               0         \n",
      "_________________________________________________________________\n",
      "dense_1 (Dense)              (None, 1)                 145       \n",
      "=================================================================\n",
      "Total params: 4,321\n",
      "Trainable params: 4,033\n",
      "Non-trainable params: 288\n",
      "_________________________________________________________________\n"
     ]
    },
    {
     "name": "stdout",
     "output_type": "stream",
     "text": [
      "K_fold 4\n",
      "Model: \"model\"\n",
      "_________________________________________________________________\n",
      "Layer (type)                 Output Shape              Param #   \n",
      "=================================================================\n",
      "input_1 (InputLayer)         [(None, 24)]              0         \n",
      "_________________________________________________________________\n",
      "dense (Dense)                (None, 144)               3600      \n",
      "_________________________________________________________________\n",
      "batch_normalization (BatchNo (None, 144)               576       \n",
      "_________________________________________________________________\n",
      "dropout (Dropout)            (None, 144)               0         \n",
      "_________________________________________________________________\n",
      "dense_1 (Dense)              (None, 1)                 145       \n",
      "=================================================================\n",
      "Total params: 4,321\n",
      "Trainable params: 4,033\n",
      "Non-trainable params: 288\n",
      "_________________________________________________________________\n"
     ]
    },
    {
     "name": "stdout",
     "output_type": "stream",
     "text": [
      "K_fold 5\n",
      "Model: \"model\"\n",
      "_________________________________________________________________\n",
      "Layer (type)                 Output Shape              Param #   \n",
      "=================================================================\n",
      "input_1 (InputLayer)         [(None, 24)]              0         \n",
      "_________________________________________________________________\n",
      "dense (Dense)                (None, 144)               3600      \n",
      "_________________________________________________________________\n",
      "batch_normalization (BatchNo (None, 144)               576       \n",
      "_________________________________________________________________\n",
      "dropout (Dropout)            (None, 144)               0         \n",
      "_________________________________________________________________\n",
      "dense_1 (Dense)              (None, 1)                 145       \n",
      "=================================================================\n",
      "Total params: 4,321\n",
      "Trainable params: 4,033\n",
      "Non-trainable params: 288\n",
      "_________________________________________________________________\n"
     ]
    }
   ],
   "source": [
    "# Set up lists to hold results\n",
    "training_acc_results = []\n",
    "test_acc_results = []\n",
    "\n",
    "# Set up splits\n",
    "skf = StratifiedKFold(n_splits = 5)\n",
    "skf.get_n_splits(X, y)\n",
    "\n",
    "# Loop through the k-fold splits\n",
    "k_counter = 0\n",
    "\n",
    "for train_index, test_index in skf.split(X_np, y_np):\n",
    "    k_counter +=1\n",
    "    print('K_fold {}'.format(k_counter))\n",
    "    \n",
    "    # Get X and Y train/test\n",
    "    X_train, X_test = X_np[train_index], X_np[test_index]\n",
    "    y_train, y_test = y_np[train_index], y_np[test_index]\n",
    "    \n",
    "    # Scale X data\n",
    "    X_train_sc, X_test_sc = scale_data(X_train, X_test)\n",
    "    \n",
    "    # Define network\n",
    "    \n",
    "    # Define network\n",
    "    number_features = X_train_sc.shape[1]\n",
    "    model = make_net(number_hidden_layers, number_features, number_nodes, \n",
    "                     dropout, wide_and_deep, single_final_hidden_layer, \n",
    "                     learning_rate)\n",
    "     \n",
    "    model.summary()\n",
    "    \n",
    "    # Train model\n",
    "    history = model.fit(X_train_sc,\n",
    "                        y_train,\n",
    "                        epochs = max_epoch,\n",
    "                        batch_size = calculation_batch_size,\n",
    "                        validation_data = (X_test_sc, y_test),\n",
    "                        verbose = 0)\n",
    "            \n",
    "    ### Test model (print results for each k-fold iteration)\n",
    "    probability = model.predict(X_train_sc)\n",
    "    y_pred_train = probability >= 0.5\n",
    "    y_pred_train = y_pred_train.flatten()\n",
    "    accuracy_train = np.mean(y_pred_train == y_train)\n",
    "    training_acc_results.append(accuracy_train)\n",
    "\n",
    "    probability = model.predict(X_test_sc)\n",
    "    y_pred_test = probability >= 0.5\n",
    "    y_pred_test = y_pred_test.flatten()\n",
    "    accuracy_test = np.mean(y_pred_test == y_test)\n",
    "    test_acc_results.append(accuracy_test)"
   ]
  },
  {
   "cell_type": "markdown",
   "metadata": {},
   "source": [
    "# Create and save as png file a visualisation of the neural network structure\n",
    "\n",
    "This needs a pip or conda install pydot and graphviz (included in the tensorflow_batch environment)"
   ]
  },
  {
   "cell_type": "code",
   "execution_count": 16,
   "metadata": {
    "execution": {
     "iopub.execute_input": "2021-02-16T15:28:48.155402Z",
     "iopub.status.busy": "2021-02-16T15:28:48.155003Z",
     "iopub.status.idle": "2021-02-16T15:28:48.242246Z",
     "shell.execute_reply": "2021-02-16T15:28:48.242833Z"
    }
   },
   "outputs": [
    {
     "data": {
      "image/png": "[encoded data removed]",
      "text/plain": [
       "<IPython.core.display.Image object>"
      ]
     },
     "execution_count": 1,
     "metadata": {},
     "output_type": "execute_result"
    }
   ],
   "source": [
    "model_path = f\"{output_folder}/{model_name}\"\n",
    "\n",
    "keras.utils.plot_model(model, f\"{model_path}.png\", show_shapes=True)"
   ]
  },
  {
   "cell_type": "markdown",
   "metadata": {},
   "source": [
    "## Show training and test results"
   ]
  },
  {
   "cell_type": "code",
   "execution_count": 17,
   "metadata": {
    "execution": {
     "iopub.execute_input": "2021-02-16T15:28:48.245850Z",
     "iopub.status.busy": "2021-02-16T15:28:48.245475Z",
     "iopub.status.idle": "2021-02-16T15:28:48.247245Z",
     "shell.execute_reply": "2021-02-16T15:28:48.247541Z"
    }
   },
   "outputs": [
    {
     "data": {
      "text/plain": [
       "[0.6179775280898876,\n",
       " 0.6661991584852734,\n",
       " 0.6227208976157083,\n",
       " 0.6157082748948106,\n",
       " 0.6283309957924264]"
      ]
     },
     "execution_count": 1,
     "metadata": {},
     "output_type": "execute_result"
    }
   ],
   "source": [
    "# Show individual accuracies on training data\n",
    "training_acc_results"
   ]
  },
  {
   "cell_type": "code",
   "execution_count": 18,
   "metadata": {
    "execution": {
     "iopub.execute_input": "2021-02-16T15:28:48.249909Z",
     "iopub.status.busy": "2021-02-16T15:28:48.249532Z",
     "iopub.status.idle": "2021-02-16T15:28:48.251533Z",
     "shell.execute_reply": "2021-02-16T15:28:48.251219Z"
    }
   },
   "outputs": [
    {
     "data": {
      "text/plain": [
       "[0.6145251396648045,\n",
       " 0.6741573033707865,\n",
       " 0.6179775280898876,\n",
       " 0.6179775280898876,\n",
       " 0.6179775280898876]"
      ]
     },
     "execution_count": 1,
     "metadata": {},
     "output_type": "execute_result"
    }
   ],
   "source": [
    "# Show individual accuracies on test data\n",
    "test_acc_results"
   ]
  },
  {
   "cell_type": "code",
   "execution_count": 19,
   "metadata": {
    "execution": {
     "iopub.execute_input": "2021-02-16T15:28:48.254316Z",
     "iopub.status.busy": "2021-02-16T15:28:48.253947Z",
     "iopub.status.idle": "2021-02-16T15:28:48.255592Z",
     "shell.execute_reply": "2021-02-16T15:28:48.255890Z"
    }
   },
   "outputs": [
    {
     "name": "stdout",
     "output_type": "stream",
     "text": [
      "mean accuracy (across all 5 k-folds) for training set: 0.6301873709756213\n",
      "mean accuracy (across all 5 k-folds) for test set: 0.6285230054610508\n"
     ]
    }
   ],
   "source": [
    "# Get mean results\n",
    "mean_training = np.mean(training_acc_results)\n",
    "mean_test = np.mean(test_acc_results)\n",
    "\n",
    "# Display each to three decimal places\n",
    "print (f\"mean accuracy (across all {number_kfold} k-folds) for training set: {mean_training}\")\n",
    "print (f\"mean accuracy (across all {number_kfold} k-folds) for test set: {mean_test}\")"
   ]
  },
  {
   "cell_type": "markdown",
   "metadata": {},
   "source": [
    "## Plot results: Box Plot\n",
    "\n",
    "Box plots show median (orange line), the second and third quartiles (the box), the range (excluding outliers), and any outliers as 'whisker' points. Outliers, by convention, are conisiered to be any points outside of the quartiles +/- 1.5 times the interquartile range. The limit for outliers may be changed using the optional `whis` argument in the boxplot.\n",
    "\n",
    "Medians tend to be an easy reliable guide to the centre of a distribution (i.e. look at the medians to see whether a fit is improving or not, but also look at the box plot to see how much variability there is).\n",
    "\n",
    "Test sets tend to be more variable in their accuracy measures. Can you think why?"
   ]
  },
  {
   "cell_type": "code",
   "execution_count": 20,
   "metadata": {
    "execution": {
     "iopub.execute_input": "2021-02-16T15:28:48.260171Z",
     "iopub.status.busy": "2021-02-16T15:28:48.259803Z",
     "iopub.status.idle": "2021-02-16T15:28:48.490953Z",
     "shell.execute_reply": "2021-02-16T15:28:48.490571Z"
    }
   },
   "outputs": [
    {
     "data": {
      "image/png": "[encoded data removed]",
      "text/plain": [
       "<Figure size 360x360 with 1 Axes>"
      ]
     },
     "metadata": {
      "needs_background": "light"
     },
     "output_type": "display_data"
    }
   ],
   "source": [
    "import matplotlib.pyplot as plt\n",
    "%matplotlib inline\n",
    "\n",
    "# Set up X data \n",
    "x_for_box = [training_acc_results, test_acc_results]\n",
    "\n",
    "# Set up X labels\n",
    "labels = ['Training', 'Test'] \n",
    "\n",
    "# Set up figure\n",
    "fig = plt.figure(figsize=(5,5))\n",
    "\n",
    "# Add subplot (can be used to define multiple plots in same figure)\n",
    "ax1 = fig.add_subplot(111)\n",
    "\n",
    "# Define Box Plot (`widths` is optional)\n",
    "ax1.boxplot(x_for_box, \n",
    "            widths=0.7,\n",
    "            whis=100)\n",
    "\n",
    "# Set X and Y labels\n",
    "ax1.set_xticklabels(labels)\n",
    "ax1.set_ylabel('Accuracy')\n",
    "\n",
    "# Show plot\n",
    "plt.show()"
   ]
  },
  {
   "cell_type": "markdown",
   "metadata": {},
   "source": [
    "## Using TensorFlow's training history\n",
    "\n",
    "TensorFlow can track the history of training, enabling us to examine performance against training and test sets over time. Here we will use the same model as above, but without k-fold validation and with history tracking.\n",
    "`history` is a dictionary containing data collected during training. Let's take a look at the keys in this dictionary (these are the metrics monitored during training):"
   ]
  },
  {
   "cell_type": "code",
   "execution_count": 21,
   "metadata": {
    "execution": {
     "iopub.execute_input": "2021-02-16T15:28:48.493526Z",
     "iopub.status.busy": "2021-02-16T15:28:48.493172Z",
     "iopub.status.idle": "2021-02-16T15:28:48.494990Z",
     "shell.execute_reply": "2021-02-16T15:28:48.495278Z"
    }
   },
   "outputs": [
    {
     "data": {
      "text/plain": [
       "dict_keys(['loss', 'accuracy', 'val_loss', 'val_accuracy'])"
      ]
     },
     "execution_count": 1,
     "metadata": {},
     "output_type": "execute_result"
    }
   ],
   "source": [
    "history_dict = history.history\n",
    "history_dict.keys()"
   ]
  },
  {
   "cell_type": "markdown",
   "metadata": {},
   "source": [
    "Plot training history:"
   ]
  },
  {
   "cell_type": "code",
   "execution_count": 22,
   "metadata": {
    "execution": {
     "iopub.execute_input": "2021-02-16T15:28:48.503438Z",
     "iopub.status.busy": "2021-02-16T15:28:48.502247Z",
     "iopub.status.idle": "2021-02-16T15:28:48.624904Z",
     "shell.execute_reply": "2021-02-16T15:28:48.625198Z"
    }
   },
   "outputs": [
    {
     "data": {
      "image/png": "[encoded data removed]",
      "text/plain": [
       "<Figure size 432x288 with 1 Axes>"
      ]
     },
     "metadata": {
      "needs_background": "light"
     },
     "output_type": "display_data"
    }
   ],
   "source": [
    "import matplotlib.pyplot as plt\n",
    "%matplotlib inline\n",
    "\n",
    "acc_values = history_dict['accuracy']\n",
    "val_acc_values = history_dict['val_accuracy']\n",
    "epochs = range(1, len(acc_values) + 1)\n",
    "\n",
    "plt.plot(epochs, acc_values, 'bo', label='Training acc')\n",
    "plt.plot(epochs, val_acc_values, 'b', label='Test accuracy')\n",
    "plt.title('Training and validation accuracy')\n",
    "plt.xlabel('Epochs')\n",
    "plt.ylabel('Accuracy')\n",
    "plt.legend(loc='center left', bbox_to_anchor=(1, 0.5))\n",
    "plt.show()"
   ]
  },
  {
   "cell_type": "markdown",
   "metadata": {},
   "source": [
    "## Getting model weights\n",
    "\n",
    "Here we show how weights for a layer can be extracted from the model if required."
   ]
  },
  {
   "cell_type": "code",
   "execution_count": 23,
   "metadata": {
    "execution": {
     "iopub.execute_input": "2021-02-16T15:28:48.627872Z",
     "iopub.status.busy": "2021-02-16T15:28:48.627515Z",
     "iopub.status.idle": "2021-02-16T15:28:48.629865Z",
     "shell.execute_reply": "2021-02-16T15:28:48.629488Z"
    }
   },
   "outputs": [
    {
     "data": {
      "text/plain": [
       "'dense'"
      ]
     },
     "execution_count": 1,
     "metadata": {},
     "output_type": "execute_result"
    }
   ],
   "source": [
    "hidden1 = model.layers[1]\n",
    "hidden1.name"
   ]
  },
  {
   "cell_type": "code",
   "execution_count": 24,
   "metadata": {
    "execution": {
     "iopub.execute_input": "2021-02-16T15:28:48.632199Z",
     "iopub.status.busy": "2021-02-16T15:28:48.631844Z",
     "iopub.status.idle": "2021-02-16T15:28:48.634560Z",
     "shell.execute_reply": "2021-02-16T15:28:48.634849Z"
    }
   },
   "outputs": [
    {
     "data": {
      "text/plain": [
       "(24, 144)"
      ]
     },
     "execution_count": 1,
     "metadata": {},
     "output_type": "execute_result"
    }
   ],
   "source": [
    "weights, biases = hidden1.get_weights() # Biases are not used in this model\n",
    "weights.shape"
   ]
  },
  {
   "cell_type": "code",
   "execution_count": 25,
   "metadata": {
    "execution": {
     "iopub.execute_input": "2021-02-16T15:28:48.637680Z",
     "iopub.status.busy": "2021-02-16T15:28:48.637325Z",
     "iopub.status.idle": "2021-02-16T15:28:48.639375Z",
     "shell.execute_reply": "2021-02-16T15:28:48.639002Z"
    }
   },
   "outputs": [
    {
     "data": {
      "text/plain": [
       "array([[ 0.14489977, -0.09226024, -0.00777113, ...,  0.01088394,\n",
       "         0.1701625 ,  0.18846133],\n",
       "       [ 0.18774624,  0.02385614,  0.05834063, ..., -0.163224  ,\n",
       "        -0.09723153, -0.09721705],\n",
       "       [ 0.17032024,  0.03031805, -0.08924782, ..., -0.12864116,\n",
       "         0.10409231, -0.10561123],\n",
       "       ...,\n",
       "       [ 0.16871822, -0.06779244, -0.06426   , ..., -0.10196164,\n",
       "         0.07114181,  0.08287754],\n",
       "       [ 0.08778583,  0.09606031, -0.09379258, ...,  0.01649225,\n",
       "        -0.06353141,  0.0858124 ],\n",
       "       [-0.12467097, -0.18635118,  0.05990412, ...,  0.04211094,\n",
       "        -0.20303364,  0.1418077 ]], dtype=float32)"
      ]
     },
     "execution_count": 1,
     "metadata": {},
     "output_type": "execute_result"
    }
   ],
   "source": [
    "weights"
   ]
  },
  {
   "cell_type": "markdown",
   "metadata": {},
   "source": [
    "## Evaluating model\n",
    "\n",
    "If a test set is not used to evaluate in training, or if there is an independnent test set, evaluation may be quickly performed using the `evaluate` method."
   ]
  },
  {
   "cell_type": "code",
   "execution_count": 26,
   "metadata": {
    "execution": {
     "iopub.execute_input": "2021-02-16T15:28:48.642257Z",
     "iopub.status.busy": "2021-02-16T15:28:48.641879Z",
     "iopub.status.idle": "2021-02-16T15:28:48.667651Z",
     "shell.execute_reply": "2021-02-16T15:28:48.667263Z"
    }
   },
   "outputs": [
    {
     "name": "stdout",
     "output_type": "stream",
     "text": [
      "\r",
      " 32/178 [====>.........................] - ETA: 0s - loss: 0.7029 - accuracy: 0.4688"
     ]
    },
    {
     "name": "stdout",
     "output_type": "stream",
     "text": [
      "\b\b\b\b\b\b\b\b\b\b\b\b\b\b\b\b\b\b\b\b\b\b\b\b\b\b\b\b\b\b\b\b\b\b\b\b\b\b\b\b\b\b\b\b\b\b\b\b\b\b\b\b\b\b\b\b\b\b\b\b\b\b\b\b\b\b\b\b\b\b\b\b\b\b\b\b\b\b\b\b\b\b\b\b\r",
      "178/178 [==============================] - 0s 43us/sample - loss: 0.6035 - accuracy: 0.6180\n"
     ]
    },
    {
     "data": {
      "text/plain": [
       "[0.6034662777118469, 0.6179775]"
      ]
     },
     "execution_count": 1,
     "metadata": {},
     "output_type": "execute_result"
    }
   ],
   "source": [
    "model.evaluate(X_test_sc, y_test)"
   ]
  }
 ],
 "metadata": {
  "kernelspec": {
   "display_name": "Python 3",
   "language": "python",
   "name": "python3"
  },
  "language_info": {
   "codemirror_mode": {
    "name": "ipython",
    "version": 3
   },
   "file_extension": ".py",
   "mimetype": "text/x-python",
   "name": "python",
   "nbconvert_exporter": "python",
   "pygments_lexer": "ipython3",
   "version": "3.7.6"
  }
 },
 "nbformat": 4,
 "nbformat_minor": 4
}
