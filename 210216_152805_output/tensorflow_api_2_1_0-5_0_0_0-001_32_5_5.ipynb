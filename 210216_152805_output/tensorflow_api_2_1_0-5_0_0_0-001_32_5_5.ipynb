{
 "cells": [
  {
   "cell_type": "markdown",
   "metadata": {},
   "source": [
    "# Kaggle Titanic survival - TensorFlow api-based neural net.\n",
    "\n",
    "Taking https://github.com/MichaelAllen1966/1804_python_healthcare/blob/master/titanic/20b_tensorflow_api.ipynb and adapting the code to run in batch mode by making use of nbparameterise library.\n",
    "\n",
    "This workbook builds a neural network to predict survival on the titanic using the common framework TensorFlow (using keras).\n",
    "\n",
    "It can be run in standalone based on the parameter values defined in the first code cell.\n",
    "\n",
    "Alternatively, the notebook can be run in a batch mode by setting up the parameter values in \"batch_running_ipynb.ipynb\". That notebook will access the parameters in the first cell of this notebook and alter their value before running this notebook and saving it (with a unique name)."
   ]
  },
  {
   "cell_type": "markdown",
   "metadata": {},
   "source": [
    "# Parameters that can be changed in a batch run\n",
    "The first code cell needs to contain all of the parameters that can be changed in a batch run."
   ]
  },
  {
   "cell_type": "code",
   "execution_count": 1,
   "metadata": {
    "execution": {
     "iopub.execute_input": "2021-02-16T15:28:15.727201Z",
     "iopub.status.busy": "2021-02-16T15:28:15.726742Z",
     "iopub.status.idle": "2021-02-16T15:28:15.729002Z",
     "shell.execute_reply": "2021-02-16T15:28:15.728474Z"
    }
   },
   "outputs": [],
   "source": [
    "number_hidden_layers = 2\n",
    "number_nodes = 1\n",
    "dropout = 0.5\n",
    "wide_and_deep = 0\n",
    "single_final_hidden_layer = 0\n",
    "learning_rate = 0.001\n",
    "include_class_weights = 1\n",
    "calculation_batch_size = 32\n",
    "max_epoch = 5\n",
    "number_kfold = 5\n",
    "output_folder = '210216_152805_output'"
   ]
  },
  {
   "cell_type": "markdown",
   "metadata": {},
   "source": [
    "# Use the parameter values to create a string to be used as the model name"
   ]
  },
  {
   "cell_type": "code",
   "execution_count": 2,
   "metadata": {
    "execution": {
     "iopub.execute_input": "2021-02-16T15:28:15.732682Z",
     "iopub.status.busy": "2021-02-16T15:28:15.732165Z",
     "iopub.status.idle": "2021-02-16T15:28:15.734046Z",
     "shell.execute_reply": "2021-02-16T15:28:15.734460Z"
    }
   },
   "outputs": [],
   "source": [
    "# replace \".\" with a \"-\"\"\n",
    "learning_rate_str =  str(learning_rate).replace(\"0.\", \"0-\")\n",
    "dropout_str = str(dropout).replace(\"0.\", \"0-\")\n",
    "\n",
    "model_name = (f\"model_{number_hidden_layers}_{number_nodes}_{dropout_str}_\"\n",
    "              f\"{wide_and_deep}_{single_final_hidden_layer}_{learning_rate_str}\"\n",
    "              f\"_{calculation_batch_size}_{number_kfold}_{max_epoch}\")"
   ]
  },
  {
   "cell_type": "code",
   "execution_count": 3,
   "metadata": {
    "execution": {
     "iopub.execute_input": "2021-02-16T15:28:15.737579Z",
     "iopub.status.busy": "2021-02-16T15:28:15.737069Z",
     "iopub.status.idle": "2021-02-16T15:28:15.739048Z",
     "shell.execute_reply": "2021-02-16T15:28:15.739466Z"
    }
   },
   "outputs": [],
   "source": [
    "# Turn warnings off to keep notebook tidy\n",
    "import warnings\n",
    "warnings.filterwarnings(\"ignore\")"
   ]
  },
  {
   "cell_type": "markdown",
   "metadata": {},
   "source": [
    "## Load modules"
   ]
  },
  {
   "cell_type": "code",
   "execution_count": 4,
   "metadata": {
    "execution": {
     "iopub.execute_input": "2021-02-16T15:28:15.743976Z",
     "iopub.status.busy": "2021-02-16T15:28:15.743457Z",
     "iopub.status.idle": "2021-02-16T15:28:17.016967Z",
     "shell.execute_reply": "2021-02-16T15:28:17.016556Z"
    }
   },
   "outputs": [],
   "source": [
    "import numpy as np\n",
    "import pandas as pd\n",
    "\n",
    "# sklearn for pre-processing\n",
    "from sklearn.preprocessing import MinMaxScaler\n",
    "from sklearn.model_selection import StratifiedKFold\n",
    "\n",
    "# TensorFlow api model\n",
    "from tensorflow import keras\n",
    "from tensorflow.keras import layers\n",
    "from tensorflow.keras.models import Model\n",
    "from tensorflow.keras.optimizers import Adam\n",
    "from tensorflow.keras import backend as K\n",
    "from tensorflow.keras.losses import binary_crossentropy\n",
    "\n",
    "import os"
   ]
  },
  {
   "cell_type": "markdown",
   "metadata": {},
   "source": [
    "# Create output folder"
   ]
  },
  {
   "cell_type": "code",
   "execution_count": 5,
   "metadata": {
    "execution": {
     "iopub.execute_input": "2021-02-16T15:28:17.019579Z",
     "iopub.status.busy": "2021-02-16T15:28:17.019210Z",
     "iopub.status.idle": "2021-02-16T15:28:17.021037Z",
     "shell.execute_reply": "2021-02-16T15:28:17.020660Z"
    }
   },
   "outputs": [],
   "source": [
    "# if folder and subfolder don't exist, create them\n",
    "if not os.path.exists(f\"{output_folder}\"):\n",
    "    os.makedirs(f\"{output_folder}\")"
   ]
  },
  {
   "cell_type": "markdown",
   "metadata": {},
   "source": [
    "## Download data if not previously downloaded"
   ]
  },
  {
   "cell_type": "code",
   "execution_count": 6,
   "metadata": {
    "execution": {
     "iopub.execute_input": "2021-02-16T15:28:17.024852Z",
     "iopub.status.busy": "2021-02-16T15:28:17.024482Z",
     "iopub.status.idle": "2021-02-16T15:28:17.447530Z",
     "shell.execute_reply": "2021-02-16T15:28:17.447088Z"
    }
   },
   "outputs": [],
   "source": [
    "download_required = True\n",
    "\n",
    "if download_required:\n",
    "    \n",
    "    # Download processed data:\n",
    "    address = 'https://raw.githubusercontent.com/MichaelAllen1966/' + \\\n",
    "                '1804_python_healthcare/master/titanic/data/processed_data.csv'\n",
    "    \n",
    "    data = pd.read_csv(address)\n",
    "\n",
    "    # Create a data subfolder if one does not already exist\n",
    "    import os\n",
    "    data_directory ='./data/'\n",
    "    if not os.path.exists(data_directory):\n",
    "        os.makedirs(data_directory)\n",
    "\n",
    "    # Save data\n",
    "    data.to_csv(data_directory + 'processed_data.csv', index=False)"
   ]
  },
  {
   "cell_type": "markdown",
   "metadata": {},
   "source": [
    "## Define function to calculate accuracy measurements"
   ]
  },
  {
   "cell_type": "code",
   "execution_count": 7,
   "metadata": {
    "execution": {
     "iopub.execute_input": "2021-02-16T15:28:17.456101Z",
     "iopub.status.busy": "2021-02-16T15:28:17.449260Z",
     "iopub.status.idle": "2021-02-16T15:28:17.458052Z",
     "shell.execute_reply": "2021-02-16T15:28:17.457695Z"
    }
   },
   "outputs": [],
   "source": [
    "def calculate_accuracy(observed, predicted):\n",
    "    \n",
    "    \"\"\"\n",
    "    Calculates a range of accuracy scores from observed and predicted classes.\n",
    "    \n",
    "    Takes two list or NumPy arrays (observed class values, and predicted class \n",
    "    values), and returns a dictionary of results.\n",
    "    \n",
    "     1) observed positive rate: proportion of observed cases that are +ve\n",
    "     2) Predicted positive rate: proportion of predicted cases that are +ve\n",
    "     3) observed negative rate: proportion of observed cases that are -ve\n",
    "     4) Predicted negative rate: proportion of predicted cases that are -ve  \n",
    "     5) accuracy: proportion of predicted results that are correct    \n",
    "     6) precision: proportion of predicted +ve that are correct\n",
    "     7) recall: proportion of true +ve correctly identified\n",
    "     8) f1: harmonic mean of precision and recall\n",
    "     9) sensitivity: Same as recall\n",
    "    10) specificity: Proportion of true -ve identified:        \n",
    "    11) positive likelihood: increased probability of true +ve if test +ve\n",
    "    12) negative likelihood: reduced probability of true +ve if test -ve\n",
    "    13) false positive rate: proportion of false +ves in true -ve patients\n",
    "    14) false negative rate: proportion of false -ves in true +ve patients\n",
    "    15) true positive rate: Same as recall\n",
    "    16) true negative rate\n",
    "    17) positive predictive value: chance of true +ve if test +ve\n",
    "    18) negative predictive value: chance of true -ve if test -ve\n",
    "    \n",
    "    \"\"\"\n",
    "    \n",
    "    # Converts list to NumPy arrays\n",
    "    if type(observed) == list:\n",
    "        observed = np.array(observed)\n",
    "    if type(predicted) == list:\n",
    "        predicted = np.array(predicted)\n",
    "    \n",
    "    # Calculate accuracy scores\n",
    "    observed_positives = observed == 1\n",
    "    observed_negatives = observed == 0\n",
    "    predicted_positives = predicted == 1\n",
    "    predicted_negatives = predicted == 0\n",
    "    \n",
    "    true_positives = (predicted_positives == 1) & (observed_positives == 1)\n",
    "    \n",
    "    false_positives = (predicted_positives == 1) & (observed_positives == 0)\n",
    "    \n",
    "    true_negatives = (predicted_negatives == 1) & (observed_negatives == 1)\n",
    "    \n",
    "    accuracy = np.mean(predicted == observed)\n",
    "    \n",
    "    precision = (np.sum(true_positives) /\n",
    "                 (np.sum(true_positives) + np.sum(false_positives)))\n",
    "        \n",
    "    recall = np.sum(true_positives) / np.sum(observed_positives)\n",
    "    \n",
    "    sensitivity = recall\n",
    "    \n",
    "    f1 = 2 * ((precision * recall) / (precision + recall))\n",
    "    \n",
    "    specificity = np.sum(true_negatives) / np.sum(observed_negatives)\n",
    "    \n",
    "    positive_likelihood = sensitivity / (1 - specificity)\n",
    "    \n",
    "    negative_likelihood = (1 - sensitivity) / specificity\n",
    "    \n",
    "    false_positive_rate = 1 - specificity\n",
    "    \n",
    "    false_negative_rate = 1 - sensitivity\n",
    "    \n",
    "    true_positive_rate = sensitivity\n",
    "    \n",
    "    true_negative_rate = specificity\n",
    "    \n",
    "    positive_predictive_value = (np.sum(true_positives) / \n",
    "                                 np.sum(observed_positives))\n",
    "    \n",
    "    negative_predictive_value = (np.sum(true_negatives) / \n",
    "                                  np.sum(observed_positives))\n",
    "    \n",
    "    # Create dictionary for results, and add results\n",
    "    results = dict()\n",
    "    \n",
    "    results['observed_positive_rate'] = np.mean(observed_positives)\n",
    "    results['observed_negative_rate'] = np.mean(observed_negatives)\n",
    "    results['predicted_positive_rate'] = np.mean(predicted_positives)\n",
    "    results['predicted_negative_rate'] = np.mean(predicted_negatives)\n",
    "    results['accuracy'] = accuracy\n",
    "    results['precision'] = precision\n",
    "    results['recall'] = recall\n",
    "    results['f1'] = f1\n",
    "    results['sensitivity'] = sensitivity\n",
    "    results['specificity'] = specificity\n",
    "    results['positive_likelihood'] = positive_likelihood\n",
    "    results['negative_likelihood'] = negative_likelihood\n",
    "    results['false_positive_rate'] = false_positive_rate\n",
    "    results['false_negative_rate'] = false_negative_rate\n",
    "    results['true_positive_rate'] = true_positive_rate\n",
    "    results['true_negative_rate'] = true_negative_rate\n",
    "    results['positive_predictive_value'] = positive_predictive_value\n",
    "    results['negative_predictive_value'] = negative_predictive_value\n",
    "    \n",
    "    return results"
   ]
  },
  {
   "cell_type": "markdown",
   "metadata": {},
   "source": [
    "## Define function to scale data\n",
    "\n",
    "In neural networks it is common to to scale input data 0-1 rather than use standardisation (subtracting mean and dividing by standard deviation) of each feature)."
   ]
  },
  {
   "cell_type": "code",
   "execution_count": 8,
   "metadata": {
    "execution": {
     "iopub.execute_input": "2021-02-16T15:28:17.461174Z",
     "iopub.status.busy": "2021-02-16T15:28:17.460771Z",
     "iopub.status.idle": "2021-02-16T15:28:17.462844Z",
     "shell.execute_reply": "2021-02-16T15:28:17.462431Z"
    }
   },
   "outputs": [],
   "source": [
    "def scale_data(X_train, X_test):\n",
    "    \"\"\"Scale data 0-1 based on min and max in training set\"\"\"\n",
    "    \n",
    "    # Initialise a new scaling object for normalising input data\n",
    "    sc = MinMaxScaler()\n",
    "\n",
    "    # Set up the scaler just on the training set\n",
    "    sc.fit(X_train)\n",
    "\n",
    "    # Apply the scaler to the training and test sets\n",
    "    train_sc = sc.transform(X_train)\n",
    "    test_sc = sc.transform(X_test)\n",
    "    \n",
    "    return train_sc, test_sc\n",
    "    "
   ]
  },
  {
   "cell_type": "markdown",
   "metadata": {},
   "source": [
    "## Load data"
   ]
  },
  {
   "cell_type": "code",
   "execution_count": 9,
   "metadata": {
    "execution": {
     "iopub.execute_input": "2021-02-16T15:28:17.466044Z",
     "iopub.status.busy": "2021-02-16T15:28:17.465634Z",
     "iopub.status.idle": "2021-02-16T15:28:17.472509Z",
     "shell.execute_reply": "2021-02-16T15:28:17.472128Z"
    }
   },
   "outputs": [],
   "source": [
    "data = pd.read_csv('data/processed_data.csv')\n",
    "# Make all data 'float' type\n",
    "data = data.astype(float)\n",
    "data.drop('PassengerId', inplace=True, axis=1)\n",
    "X = data.drop('Survived',axis=1) # X = all 'data' except the 'survived' column\n",
    "y = data['Survived'] # y = 'survived' column from 'data'\n",
    "# Convert to NumPy as required for k-fold splits\n",
    "X_np = X.values\n",
    "y_np = y.values"
   ]
  },
  {
   "cell_type": "markdown",
   "metadata": {},
   "source": [
    "Take a look at the data"
   ]
  },
  {
   "cell_type": "code",
   "execution_count": 10,
   "metadata": {
    "execution": {
     "iopub.execute_input": "2021-02-16T15:28:17.477402Z",
     "iopub.status.busy": "2021-02-16T15:28:17.476257Z",
     "iopub.status.idle": "2021-02-16T15:28:17.538834Z",
     "shell.execute_reply": "2021-02-16T15:28:17.539124Z"
    }
   },
   "outputs": [
    {
     "data": {
      "text/html": [
       "<div>\n",
       "<style scoped>\n",
       "    .dataframe tbody tr th:only-of-type {\n",
       "        vertical-align: middle;\n",
       "    }\n",
       "\n",
       "    .dataframe tbody tr th {\n",
       "        vertical-align: top;\n",
       "    }\n",
       "\n",
       "    .dataframe thead th {\n",
       "        text-align: right;\n",
       "    }\n",
       "</style>\n",
       "<table border=\"1\" class=\"dataframe\">\n",
       "  <thead>\n",
       "    <tr style=\"text-align: right;\">\n",
       "      <th></th>\n",
       "      <th>Survived</th>\n",
       "      <th>Pclass</th>\n",
       "      <th>Age</th>\n",
       "      <th>SibSp</th>\n",
       "      <th>Parch</th>\n",
       "      <th>Fare</th>\n",
       "      <th>AgeImputed</th>\n",
       "      <th>EmbarkedImputed</th>\n",
       "      <th>CabinLetterImputed</th>\n",
       "      <th>CabinNumber</th>\n",
       "      <th>...</th>\n",
       "      <th>Embarked_missing</th>\n",
       "      <th>CabinLetter_A</th>\n",
       "      <th>CabinLetter_B</th>\n",
       "      <th>CabinLetter_C</th>\n",
       "      <th>CabinLetter_D</th>\n",
       "      <th>CabinLetter_E</th>\n",
       "      <th>CabinLetter_F</th>\n",
       "      <th>CabinLetter_G</th>\n",
       "      <th>CabinLetter_T</th>\n",
       "      <th>CabinLetter_missing</th>\n",
       "    </tr>\n",
       "  </thead>\n",
       "  <tbody>\n",
       "    <tr>\n",
       "      <th>count</th>\n",
       "      <td>891.000000</td>\n",
       "      <td>891.000000</td>\n",
       "      <td>891.000000</td>\n",
       "      <td>891.000000</td>\n",
       "      <td>891.000000</td>\n",
       "      <td>891.000000</td>\n",
       "      <td>891.000000</td>\n",
       "      <td>891.000000</td>\n",
       "      <td>891.000000</td>\n",
       "      <td>891.000000</td>\n",
       "      <td>...</td>\n",
       "      <td>891.000000</td>\n",
       "      <td>891.000000</td>\n",
       "      <td>891.000000</td>\n",
       "      <td>891.000000</td>\n",
       "      <td>891.000000</td>\n",
       "      <td>891.000000</td>\n",
       "      <td>891.000000</td>\n",
       "      <td>891.000000</td>\n",
       "      <td>891.000000</td>\n",
       "      <td>891.000000</td>\n",
       "    </tr>\n",
       "    <tr>\n",
       "      <th>mean</th>\n",
       "      <td>0.383838</td>\n",
       "      <td>2.308642</td>\n",
       "      <td>29.361582</td>\n",
       "      <td>0.523008</td>\n",
       "      <td>0.381594</td>\n",
       "      <td>32.204208</td>\n",
       "      <td>0.198653</td>\n",
       "      <td>0.002245</td>\n",
       "      <td>0.771044</td>\n",
       "      <td>11.021324</td>\n",
       "      <td>...</td>\n",
       "      <td>0.002245</td>\n",
       "      <td>0.016835</td>\n",
       "      <td>0.052750</td>\n",
       "      <td>0.066218</td>\n",
       "      <td>0.037037</td>\n",
       "      <td>0.035915</td>\n",
       "      <td>0.014590</td>\n",
       "      <td>0.004489</td>\n",
       "      <td>0.001122</td>\n",
       "      <td>0.771044</td>\n",
       "    </tr>\n",
       "    <tr>\n",
       "      <th>std</th>\n",
       "      <td>0.486592</td>\n",
       "      <td>0.836071</td>\n",
       "      <td>13.019697</td>\n",
       "      <td>1.102743</td>\n",
       "      <td>0.806057</td>\n",
       "      <td>49.693429</td>\n",
       "      <td>0.399210</td>\n",
       "      <td>0.047351</td>\n",
       "      <td>0.420397</td>\n",
       "      <td>26.638204</td>\n",
       "      <td>...</td>\n",
       "      <td>0.047351</td>\n",
       "      <td>0.128725</td>\n",
       "      <td>0.223659</td>\n",
       "      <td>0.248802</td>\n",
       "      <td>0.188959</td>\n",
       "      <td>0.186182</td>\n",
       "      <td>0.119973</td>\n",
       "      <td>0.066890</td>\n",
       "      <td>0.033501</td>\n",
       "      <td>0.420397</td>\n",
       "    </tr>\n",
       "    <tr>\n",
       "      <th>min</th>\n",
       "      <td>0.000000</td>\n",
       "      <td>1.000000</td>\n",
       "      <td>0.420000</td>\n",
       "      <td>0.000000</td>\n",
       "      <td>0.000000</td>\n",
       "      <td>0.000000</td>\n",
       "      <td>0.000000</td>\n",
       "      <td>0.000000</td>\n",
       "      <td>0.000000</td>\n",
       "      <td>0.000000</td>\n",
       "      <td>...</td>\n",
       "      <td>0.000000</td>\n",
       "      <td>0.000000</td>\n",
       "      <td>0.000000</td>\n",
       "      <td>0.000000</td>\n",
       "      <td>0.000000</td>\n",
       "      <td>0.000000</td>\n",
       "      <td>0.000000</td>\n",
       "      <td>0.000000</td>\n",
       "      <td>0.000000</td>\n",
       "      <td>0.000000</td>\n",
       "    </tr>\n",
       "    <tr>\n",
       "      <th>25%</th>\n",
       "      <td>0.000000</td>\n",
       "      <td>2.000000</td>\n",
       "      <td>22.000000</td>\n",
       "      <td>0.000000</td>\n",
       "      <td>0.000000</td>\n",
       "      <td>7.910400</td>\n",
       "      <td>0.000000</td>\n",
       "      <td>0.000000</td>\n",
       "      <td>1.000000</td>\n",
       "      <td>0.000000</td>\n",
       "      <td>...</td>\n",
       "      <td>0.000000</td>\n",
       "      <td>0.000000</td>\n",
       "      <td>0.000000</td>\n",
       "      <td>0.000000</td>\n",
       "      <td>0.000000</td>\n",
       "      <td>0.000000</td>\n",
       "      <td>0.000000</td>\n",
       "      <td>0.000000</td>\n",
       "      <td>0.000000</td>\n",
       "      <td>1.000000</td>\n",
       "    </tr>\n",
       "    <tr>\n",
       "      <th>50%</th>\n",
       "      <td>0.000000</td>\n",
       "      <td>3.000000</td>\n",
       "      <td>28.000000</td>\n",
       "      <td>0.000000</td>\n",
       "      <td>0.000000</td>\n",
       "      <td>14.454200</td>\n",
       "      <td>0.000000</td>\n",
       "      <td>0.000000</td>\n",
       "      <td>1.000000</td>\n",
       "      <td>0.000000</td>\n",
       "      <td>...</td>\n",
       "      <td>0.000000</td>\n",
       "      <td>0.000000</td>\n",
       "      <td>0.000000</td>\n",
       "      <td>0.000000</td>\n",
       "      <td>0.000000</td>\n",
       "      <td>0.000000</td>\n",
       "      <td>0.000000</td>\n",
       "      <td>0.000000</td>\n",
       "      <td>0.000000</td>\n",
       "      <td>1.000000</td>\n",
       "    </tr>\n",
       "    <tr>\n",
       "      <th>75%</th>\n",
       "      <td>1.000000</td>\n",
       "      <td>3.000000</td>\n",
       "      <td>35.000000</td>\n",
       "      <td>1.000000</td>\n",
       "      <td>0.000000</td>\n",
       "      <td>31.000000</td>\n",
       "      <td>0.000000</td>\n",
       "      <td>0.000000</td>\n",
       "      <td>1.000000</td>\n",
       "      <td>0.000000</td>\n",
       "      <td>...</td>\n",
       "      <td>0.000000</td>\n",
       "      <td>0.000000</td>\n",
       "      <td>0.000000</td>\n",
       "      <td>0.000000</td>\n",
       "      <td>0.000000</td>\n",
       "      <td>0.000000</td>\n",
       "      <td>0.000000</td>\n",
       "      <td>0.000000</td>\n",
       "      <td>0.000000</td>\n",
       "      <td>1.000000</td>\n",
       "    </tr>\n",
       "    <tr>\n",
       "      <th>max</th>\n",
       "      <td>1.000000</td>\n",
       "      <td>3.000000</td>\n",
       "      <td>80.000000</td>\n",
       "      <td>8.000000</td>\n",
       "      <td>6.000000</td>\n",
       "      <td>512.329200</td>\n",
       "      <td>1.000000</td>\n",
       "      <td>1.000000</td>\n",
       "      <td>1.000000</td>\n",
       "      <td>148.000000</td>\n",
       "      <td>...</td>\n",
       "      <td>1.000000</td>\n",
       "      <td>1.000000</td>\n",
       "      <td>1.000000</td>\n",
       "      <td>1.000000</td>\n",
       "      <td>1.000000</td>\n",
       "      <td>1.000000</td>\n",
       "      <td>1.000000</td>\n",
       "      <td>1.000000</td>\n",
       "      <td>1.000000</td>\n",
       "      <td>1.000000</td>\n",
       "    </tr>\n",
       "  </tbody>\n",
       "</table>\n",
       "<p>8 rows × 25 columns</p>\n",
       "</div>"
      ],
      "text/plain": [
       "         Survived      Pclass         Age       SibSp       Parch        Fare  \\\n",
       "count  891.000000  891.000000  891.000000  891.000000  891.000000  891.000000   \n",
       "mean     0.383838    2.308642   29.361582    0.523008    0.381594   32.204208   \n",
       "std      0.486592    0.836071   13.019697    1.102743    0.806057   49.693429   \n",
       "min      0.000000    1.000000    0.420000    0.000000    0.000000    0.000000   \n",
       "25%      0.000000    2.000000   22.000000    0.000000    0.000000    7.910400   \n",
       "50%      0.000000    3.000000   28.000000    0.000000    0.000000   14.454200   \n",
       "75%      1.000000    3.000000   35.000000    1.000000    0.000000   31.000000   \n",
       "max      1.000000    3.000000   80.000000    8.000000    6.000000  512.329200   \n",
       "\n",
       "       AgeImputed  EmbarkedImputed  CabinLetterImputed  CabinNumber  ...  \\\n",
       "count  891.000000       891.000000          891.000000   891.000000  ...   \n",
       "mean     0.198653         0.002245            0.771044    11.021324  ...   \n",
       "std      0.399210         0.047351            0.420397    26.638204  ...   \n",
       "min      0.000000         0.000000            0.000000     0.000000  ...   \n",
       "25%      0.000000         0.000000            1.000000     0.000000  ...   \n",
       "50%      0.000000         0.000000            1.000000     0.000000  ...   \n",
       "75%      0.000000         0.000000            1.000000     0.000000  ...   \n",
       "max      1.000000         1.000000            1.000000   148.000000  ...   \n",
       "\n",
       "       Embarked_missing  CabinLetter_A  CabinLetter_B  CabinLetter_C  \\\n",
       "count        891.000000     891.000000     891.000000     891.000000   \n",
       "mean           0.002245       0.016835       0.052750       0.066218   \n",
       "std            0.047351       0.128725       0.223659       0.248802   \n",
       "min            0.000000       0.000000       0.000000       0.000000   \n",
       "25%            0.000000       0.000000       0.000000       0.000000   \n",
       "50%            0.000000       0.000000       0.000000       0.000000   \n",
       "75%            0.000000       0.000000       0.000000       0.000000   \n",
       "max            1.000000       1.000000       1.000000       1.000000   \n",
       "\n",
       "       CabinLetter_D  CabinLetter_E  CabinLetter_F  CabinLetter_G  \\\n",
       "count     891.000000     891.000000     891.000000     891.000000   \n",
       "mean        0.037037       0.035915       0.014590       0.004489   \n",
       "std         0.188959       0.186182       0.119973       0.066890   \n",
       "min         0.000000       0.000000       0.000000       0.000000   \n",
       "25%         0.000000       0.000000       0.000000       0.000000   \n",
       "50%         0.000000       0.000000       0.000000       0.000000   \n",
       "75%         0.000000       0.000000       0.000000       0.000000   \n",
       "max         1.000000       1.000000       1.000000       1.000000   \n",
       "\n",
       "       CabinLetter_T  CabinLetter_missing  \n",
       "count     891.000000           891.000000  \n",
       "mean        0.001122             0.771044  \n",
       "std         0.033501             0.420397  \n",
       "min         0.000000             0.000000  \n",
       "25%         0.000000             1.000000  \n",
       "50%         0.000000             1.000000  \n",
       "75%         0.000000             1.000000  \n",
       "max         1.000000             1.000000  \n",
       "\n",
       "[8 rows x 25 columns]"
      ]
     },
     "execution_count": 1,
     "metadata": {},
     "output_type": "execute_result"
    }
   ],
   "source": [
    "data.describe()"
   ]
  },
  {
   "cell_type": "markdown",
   "metadata": {},
   "source": [
    "# Set up neural net\n",
    "\n",
    "Here we use the api-based method to set up a TensorFlow neural network. This method allows us\n",
    "to more flexibly define the inputs for each layer (it would not be possible to dynamically change the wide and deep or single final layer using the Sequential method).\n",
    "\n",
    "We will put construction of the neural net into a separate function. We need a function for each option of number of hidden layers as this aspect is not possible to dynamically change using the api-based method.\n",
    "\n",
    "The inputs are connected to up to three hidden layers. Each layer having the number of nodes that is a multiple of the number of inputs (up to x 10), before being connected to an output node that give a probability of being a category. It is an option for the input values to feed directly into the output node (along with the final hidden layer) - known as wide and deep. Another option is to have an additional layer prior to the output layer that contains a single node.\n",
    "\n",
    "It also contains some useful additions (batch normalisation and dropout) as described below.\n",
    "\n",
    "The layers of the network are:\n",
    "\n",
    "1) An input layer (which needs to be defined)\n",
    "\n",
    "2) A fully-connected (dense) layer. This is defined by the number of inputs (the number of input features) and the number of outputs. The number of outputs is a multuiple of the number of inputs (up to 10 x). The output of the layer uses ReLU (rectified linear unit) activation. ReLU activation is most common for the inner layers of a neural network. Negative input values are set to zero. Positive input values are left unchanged.\n",
    "\n",
    "3) A batch normalisation layer. This is not usually used for small models, but can increase the speed of training for larger models. It is added here as an example of how to include it (in large models all dense layers would be followed by a batch normalisation layer). The layer definition includes the number of inputs to normalise. \n",
    "\n",
    "4) A dropout layer. This layer randomly sets outputs from the preceding layer to zero during training (a different set of outputs is zeroed for each training iteration). This helps prevent over-fitting of the model to the training data. Typically between 0.1 and 0.3 outputs are set to zero (p=0.1 means 10% of outputs are set to zero).\n",
    "\n",
    "The above three layers are then repeated up to 3 times.\n",
    "\n",
    "5) The option of a single node final layer\n",
    "\n",
    "6) A final fully connected linear layer of one nodes (more nodes could be used for more classes, in which case use softmax activation and categorical_crossentropy in the loss function). The output of the net is the probability of surviving (usually a probability of >= 0.5 will be classes as ‘survived’). Option to feed the input values into this output layer."
   ]
  },
  {
   "cell_type": "code",
   "execution_count": 11,
   "metadata": {
    "execution": {
     "iopub.execute_input": "2021-02-16T15:28:17.544612Z",
     "iopub.status.busy": "2021-02-16T15:28:17.540812Z",
     "iopub.status.idle": "2021-02-16T15:28:17.546637Z",
     "shell.execute_reply": "2021-02-16T15:28:17.546035Z"
    }
   },
   "outputs": [],
   "source": [
    "def make_net_1_hidden_layer(number_features, number_nodes = 5, \n",
    "                            dropout_rate = 0.25, wide_and_deep = 0, \n",
    "                            single_final_hidden_layer = 0, \n",
    "                            learning_rate = 0.003):\n",
    "    \n",
    "    #create a network with 1 hidden layer\n",
    "    \n",
    "    # Clear Tensorflow\n",
    "    K.clear_session()\n",
    "    \n",
    "    # Define layers\n",
    "    inputs = layers.Input(shape=number_features)\n",
    "    \n",
    "    dense_1 = layers.Dense(number_features * number_nodes, \n",
    "                           activation = 'relu')(inputs)\n",
    "    norm_1 = layers.BatchNormalization()(dense_1)    \n",
    "    dropout_1 = layers.Dropout(dropout_rate)(norm_1)\n",
    "        \n",
    "    if wide_and_deep == 1:\n",
    "        # Create a layer that concatenates last dense layer and the input layer\n",
    "        concat = layers.Concatenate()([inputs, dropout_1])\n",
    "        \n",
    "        if single_final_hidden_layer == 0:\n",
    "            # wide deep goes to output layer\n",
    "            outputs = layers.Dense(1, activation = 'sigmoid')(concat)\n",
    "\n",
    "        else:\n",
    "            # wide deep goes a final hidden layer with 1 node\n",
    "            single_node = layers.Dense(1, activation = 'sigmoid')(concat)\n",
    "            # then into output layer\n",
    "            outputs = layers.Dense(1, activation = 'sigmoid')(single_node)\n",
    "            \n",
    "    else:\n",
    "        if single_final_hidden_layer == 0:\n",
    "            # not include a final hidden layer with 1 node\n",
    "            outputs = layers.Dense(1, activation = 'sigmoid')(dropout_1)\n",
    "            \n",
    "        else:\n",
    "            # include a final hidden layer with 1 node\n",
    "            single_node = layers.Dense(1, activation = 'sigmoid')(dropout_1)\n",
    "            # then into output layer\n",
    "            outputs = layers.Dense(1, activation = 'sigmoid')(single_node)\n",
    "            \n",
    "    net = Model(inputs, outputs)\n",
    "    \n",
    "    # Compiling model\n",
    "    opt = Adam(lr = learning_rate)\n",
    "    \n",
    "    net.compile(loss = 'binary_crossentropy',\n",
    "                optimizer = opt,\n",
    "                metrics = ['accuracy'])\n",
    "    return net"
   ]
  },
  {
   "cell_type": "code",
   "execution_count": 12,
   "metadata": {
    "execution": {
     "iopub.execute_input": "2021-02-16T15:28:17.552483Z",
     "iopub.status.busy": "2021-02-16T15:28:17.548321Z",
     "iopub.status.idle": "2021-02-16T15:28:17.554364Z",
     "shell.execute_reply": "2021-02-16T15:28:17.553840Z"
    }
   },
   "outputs": [],
   "source": [
    "def make_net_2_hidden_layers(number_features, number_nodes = 5, \n",
    "                             dropout_rate = 0.25, wide_and_deep = 0, \n",
    "                             single_final_hidden_layer = 0, \n",
    "                             learning_rate = 0.003):\n",
    "    \n",
    "    #create a network with 2 hidden layers\n",
    "    \n",
    "    # Clear Tensorflow\n",
    "    K.clear_session()\n",
    "    \n",
    "    # Define layers\n",
    "    inputs = layers.Input(shape=number_features)\n",
    "    \n",
    "    dense_1 = layers.Dense(number_features * number_nodes,\n",
    "                           activation = 'relu')(inputs)\n",
    "    norm_1 = layers.BatchNormalization()(dense_1)    \n",
    "    dropout_1 = layers.Dropout(dropout_rate)(norm_1)\n",
    "    \n",
    "    dense_2 = layers.Dense(number_features * number_nodes, \n",
    "                           activation = 'relu')(dropout_1)\n",
    "    norm_2 = layers.BatchNormalization()(dense_2)\n",
    "    dropout_2 = layers.Dropout(dropout_rate)(norm_2)\n",
    "    \n",
    "    if wide_and_deep == 1:\n",
    "        # Create a layer that concatenates last dense layer and the input layer\n",
    "        concat = layers.Concatenate()([inputs, dropout_2])\n",
    "        \n",
    "        if single_final_hidden_layer == 0:\n",
    "            # wide deep goes to output layer\n",
    "            outputs = layers.Dense(1, activation = 'sigmoid')(concat)\n",
    "\n",
    "        else:\n",
    "            # wide deep goes a final hidden layer with 1 node\n",
    "            single_node = layers.Dense(1, activation = 'sigmoid')(concat)\n",
    "            # then into output layer\n",
    "            outputs = layers.Dense(1, activation = 'sigmoid')(single_node)\n",
    "            \n",
    "    else:\n",
    "        if single_final_hidden_layer == 0:\n",
    "            # not include a final hidden layer with 1 node\n",
    "            outputs = layers.Dense(1, activation = 'sigmoid')(dropout_2)\n",
    "            \n",
    "        else:\n",
    "            # include a final hidden layer with 1 node\n",
    "            single_node = layers.Dense(1, activation = 'sigmoid')(dropout_2)\n",
    "            # then into output layer\n",
    "            outputs = layers.Dense(1, activation = 'sigmoid')(single_node)\n",
    "   \n",
    "    net = Model(inputs, outputs)\n",
    "    \n",
    "    # Compiling model\n",
    "    opt = Adam(lr = learning_rate)\n",
    "    \n",
    "    net.compile(loss = 'binary_crossentropy',\n",
    "                optimizer = opt,\n",
    "                metrics = ['accuracy'])\n",
    "    return net"
   ]
  },
  {
   "cell_type": "code",
   "execution_count": 13,
   "metadata": {
    "execution": {
     "iopub.execute_input": "2021-02-16T15:28:17.560789Z",
     "iopub.status.busy": "2021-02-16T15:28:17.560411Z",
     "iopub.status.idle": "2021-02-16T15:28:17.562252Z",
     "shell.execute_reply": "2021-02-16T15:28:17.561883Z"
    }
   },
   "outputs": [],
   "source": [
    "def make_net_3_hidden_layers(number_features, number_nodes = 5, \n",
    "                             dropout_rate = 0.25, wide_and_deep = 0, \n",
    "                             single_final_hidden_layer = 0, \n",
    "                             learning_rate = 0.003):\n",
    "    \n",
    "    #create a network with 3 hidden layers\n",
    "    \n",
    "    # Clear Tensorflow\n",
    "    K.clear_session()\n",
    "    \n",
    "    # Define layers\n",
    "    inputs = layers.Input(shape=number_features)\n",
    "    \n",
    "    dense_1 = layers.Dense(number_features * number_nodes, \n",
    "                           activation = 'relu')(inputs)\n",
    "    norm_1 = layers.BatchNormalization()(dense_1)    \n",
    "    dropout_1 = layers.Dropout(dropout_rate)(norm_1)\n",
    "    \n",
    "    dense_2 = layers.Dense(number_features * number_nodes, \n",
    "                           activation = 'relu')(dropout_1)\n",
    "    norm_2 = layers.BatchNormalization()(dense_2)\n",
    "    dropout_2 = layers.Dropout(dropout_rate)(norm_2)\n",
    "    \n",
    "    dense_3 = layers.Dense(number_features * number_nodes, \n",
    "                           activation = 'relu')(dropout_2)\n",
    "    norm_3 = layers.BatchNormalization()(dense_3)\n",
    "    dropout_3 = layers.Dropout(dropout_rate)(norm_3)\n",
    "    \n",
    "    if wide_and_deep == 1:\n",
    "        # Create a layer that concatenates last dense layer and the input layer\n",
    "        concat = layers.Concatenate()([inputs, dropout_3])\n",
    "        \n",
    "        if single_final_hidden_layer == 0:\n",
    "            # wide deep goes to output layer\n",
    "            outputs = layers.Dense(1, activation = 'sigmoid')(concat)\n",
    "\n",
    "        else:\n",
    "            # wide deep goes a final hidden layer with 1 node\n",
    "            single_node = layers.Dense(1, activation = 'sigmoid')(concat)\n",
    "            # then into output layer\n",
    "            outputs = layers.Dense(1, activation = 'sigmoid')(single_node)\n",
    "            \n",
    "    else:\n",
    "        if single_final_hidden_layer == 0:\n",
    "            # not include a final hidden layer with 1 node\n",
    "            outputs = layers.Dense(1, activation = 'sigmoid')(dropout_3)\n",
    "            \n",
    "        else:\n",
    "            # include a final hidden layer with 1 node\n",
    "            single_node = layers.Dense(1, activation = 'sigmoid')(dropout_3)\n",
    "            # then into output layer\n",
    "            outputs = layers.Dense(1, activation = 'sigmoid')(single_node)\n",
    "        \n",
    "    net = Model(inputs, outputs)\n",
    "    \n",
    "    # Compiling model\n",
    "    opt = Adam(lr = learning_rate)\n",
    "    \n",
    "    net.compile(loss = 'binary_crossentropy',\n",
    "                optimizer = opt,\n",
    "                metrics = ['accuracy'])\n",
    "    return net"
   ]
  },
  {
   "cell_type": "code",
   "execution_count": 14,
   "metadata": {
    "execution": {
     "iopub.execute_input": "2021-02-16T15:28:17.565945Z",
     "iopub.status.busy": "2021-02-16T15:28:17.565571Z",
     "iopub.status.idle": "2021-02-16T15:28:17.567397Z",
     "shell.execute_reply": "2021-02-16T15:28:17.567030Z"
    }
   },
   "outputs": [],
   "source": [
    "def make_net(number_hidden_layers, number_features, number_nodes, dropout_rate, \n",
    "             wide_and_deep, single_final_hidden_layer, learning_rate):\n",
    "\n",
    "    if number_hidden_layers == 1:\n",
    "        model = make_net_1_hidden_layer(number_features, number_nodes, \n",
    "                                        dropout_rate, wide_and_deep, \n",
    "                                        single_final_hidden_layer,\n",
    "                                        learning_rate)\n",
    "    elif number_hidden_layers == 2:\n",
    "        model = make_net_2_hidden_layers(number_features, number_nodes, \n",
    "                                         dropout_rate, wide_and_deep, \n",
    "                                         single_final_hidden_layer, \n",
    "                                         learning_rate)\n",
    "    elif number_hidden_layers == 3:\n",
    "        model = make_net_3_hidden_layers(number_features, number_nodes, \n",
    "                                         dropout_rate, wide_and_deep, \n",
    "                                         single_final_hidden_layer, \n",
    "                                         learning_rate)\n",
    "    else:\n",
    "        print(f\"User requested {number_hidden_layers} hidden layers, this \"\n",
    "              f\"option is not currently possible, a network will be created \"\n",
    "              f\"with 3 hidden layers.\")\n",
    "        model = make_net_3(number_features, number_nodes, dropout_rate, \n",
    "                           wide_and_deep, single_final_hidden_layer, \n",
    "                           learning_rate)\n",
    "    return(model)"
   ]
  },
  {
   "cell_type": "markdown",
   "metadata": {},
   "source": [
    "## Run the model with k-fold validation"
   ]
  },
  {
   "cell_type": "code",
   "execution_count": 15,
   "metadata": {
    "execution": {
     "iopub.execute_input": "2021-02-16T15:28:17.573086Z",
     "iopub.status.busy": "2021-02-16T15:28:17.572715Z",
     "iopub.status.idle": "2021-02-16T15:28:24.833733Z",
     "shell.execute_reply": "2021-02-16T15:28:24.833306Z"
    }
   },
   "outputs": [
    {
     "name": "stdout",
     "output_type": "stream",
     "text": [
      "K_fold 1\n"
     ]
    },
    {
     "name": "stdout",
     "output_type": "stream",
     "text": [
      "Model: \"model\"\n",
      "_________________________________________________________________\n",
      "Layer (type)                 Output Shape              Param #   \n",
      "=================================================================\n",
      "input_1 (InputLayer)         [(None, 24)]              0         \n",
      "_________________________________________________________________\n",
      "dense (Dense)                (None, 24)                600       \n",
      "_________________________________________________________________\n",
      "batch_normalization (BatchNo (None, 24)                96        \n",
      "_________________________________________________________________\n",
      "dropout (Dropout)            (None, 24)                0         \n",
      "_________________________________________________________________\n",
      "dense_1 (Dense)              (None, 24)                600       \n",
      "_________________________________________________________________\n",
      "batch_normalization_1 (Batch (None, 24)                96        \n",
      "_________________________________________________________________\n",
      "dropout_1 (Dropout)          (None, 24)                0         \n",
      "_________________________________________________________________\n",
      "dense_2 (Dense)              (None, 1)                 25        \n",
      "=================================================================\n",
      "Total params: 1,417\n",
      "Trainable params: 1,321\n",
      "Non-trainable params: 96\n",
      "_________________________________________________________________\n"
     ]
    },
    {
     "name": "stdout",
     "output_type": "stream",
     "text": [
      "K_fold 2\n",
      "Model: \"model\"\n",
      "_________________________________________________________________\n",
      "Layer (type)                 Output Shape              Param #   \n",
      "=================================================================\n",
      "input_1 (InputLayer)         [(None, 24)]              0         \n",
      "_________________________________________________________________\n",
      "dense (Dense)                (None, 24)                600       \n",
      "_________________________________________________________________\n",
      "batch_normalization (BatchNo (None, 24)                96        \n",
      "_________________________________________________________________\n",
      "dropout (Dropout)            (None, 24)                0         \n",
      "_________________________________________________________________\n",
      "dense_1 (Dense)              (None, 24)                600       \n",
      "_________________________________________________________________\n",
      "batch_normalization_1 (Batch (None, 24)                96        \n",
      "_________________________________________________________________\n",
      "dropout_1 (Dropout)          (None, 24)                0         \n",
      "_________________________________________________________________\n",
      "dense_2 (Dense)              (None, 1)                 25        \n",
      "=================================================================\n",
      "Total params: 1,417\n",
      "Trainable params: 1,321\n",
      "Non-trainable params: 96\n",
      "_________________________________________________________________\n"
     ]
    },
    {
     "name": "stdout",
     "output_type": "stream",
     "text": [
      "K_fold 3\n",
      "Model: \"model\"\n",
      "_________________________________________________________________\n",
      "Layer (type)                 Output Shape              Param #   \n",
      "=================================================================\n",
      "input_1 (InputLayer)         [(None, 24)]              0         \n",
      "_________________________________________________________________\n",
      "dense (Dense)                (None, 24)                600       \n",
      "_________________________________________________________________\n",
      "batch_normalization (BatchNo (None, 24)                96        \n",
      "_________________________________________________________________\n",
      "dropout (Dropout)            (None, 24)                0         \n",
      "_________________________________________________________________\n",
      "dense_1 (Dense)              (None, 24)                600       \n",
      "_________________________________________________________________\n",
      "batch_normalization_1 (Batch (None, 24)                96        \n",
      "_________________________________________________________________\n",
      "dropout_1 (Dropout)          (None, 24)                0         \n",
      "_________________________________________________________________\n",
      "dense_2 (Dense)              (None, 1)                 25        \n",
      "=================================================================\n",
      "Total params: 1,417\n",
      "Trainable params: 1,321\n",
      "Non-trainable params: 96\n",
      "_________________________________________________________________\n"
     ]
    },
    {
     "name": "stdout",
     "output_type": "stream",
     "text": [
      "K_fold 4\n",
      "Model: \"model\"\n",
      "_________________________________________________________________\n",
      "Layer (type)                 Output Shape              Param #   \n",
      "=================================================================\n",
      "input_1 (InputLayer)         [(None, 24)]              0         \n",
      "_________________________________________________________________\n",
      "dense (Dense)                (None, 24)                600       \n",
      "_________________________________________________________________\n",
      "batch_normalization (BatchNo (None, 24)                96        \n",
      "_________________________________________________________________\n",
      "dropout (Dropout)            (None, 24)                0         \n",
      "_________________________________________________________________\n",
      "dense_1 (Dense)              (None, 24)                600       \n",
      "_________________________________________________________________\n",
      "batch_normalization_1 (Batch (None, 24)                96        \n",
      "_________________________________________________________________\n",
      "dropout_1 (Dropout)          (None, 24)                0         \n",
      "_________________________________________________________________\n",
      "dense_2 (Dense)              (None, 1)                 25        \n",
      "=================================================================\n",
      "Total params: 1,417\n",
      "Trainable params: 1,321\n",
      "Non-trainable params: 96\n",
      "_________________________________________________________________\n"
     ]
    },
    {
     "name": "stdout",
     "output_type": "stream",
     "text": [
      "K_fold 5\n",
      "Model: \"model\"\n",
      "_________________________________________________________________\n",
      "Layer (type)                 Output Shape              Param #   \n",
      "=================================================================\n",
      "input_1 (InputLayer)         [(None, 24)]              0         \n",
      "_________________________________________________________________\n",
      "dense (Dense)                (None, 24)                600       \n",
      "_________________________________________________________________\n",
      "batch_normalization (BatchNo (None, 24)                96        \n",
      "_________________________________________________________________\n",
      "dropout (Dropout)            (None, 24)                0         \n",
      "_________________________________________________________________\n",
      "dense_1 (Dense)              (None, 24)                600       \n",
      "_________________________________________________________________\n",
      "batch_normalization_1 (Batch (None, 24)                96        \n",
      "_________________________________________________________________\n",
      "dropout_1 (Dropout)          (None, 24)                0         \n",
      "_________________________________________________________________\n",
      "dense_2 (Dense)              (None, 1)                 25        \n",
      "=================================================================\n",
      "Total params: 1,417\n",
      "Trainable params: 1,321\n",
      "Non-trainable params: 96\n",
      "_________________________________________________________________\n"
     ]
    }
   ],
   "source": [
    "# Set up lists to hold results\n",
    "training_acc_results = []\n",
    "test_acc_results = []\n",
    "\n",
    "# Set up splits\n",
    "skf = StratifiedKFold(n_splits = 5)\n",
    "skf.get_n_splits(X, y)\n",
    "\n",
    "# Loop through the k-fold splits\n",
    "k_counter = 0\n",
    "\n",
    "for train_index, test_index in skf.split(X_np, y_np):\n",
    "    k_counter +=1\n",
    "    print('K_fold {}'.format(k_counter))\n",
    "    \n",
    "    # Get X and Y train/test\n",
    "    X_train, X_test = X_np[train_index], X_np[test_index]\n",
    "    y_train, y_test = y_np[train_index], y_np[test_index]\n",
    "    \n",
    "    # Scale X data\n",
    "    X_train_sc, X_test_sc = scale_data(X_train, X_test)\n",
    "    \n",
    "    # Define network\n",
    "    \n",
    "    # Define network\n",
    "    number_features = X_train_sc.shape[1]\n",
    "    model = make_net(number_hidden_layers, number_features, number_nodes, \n",
    "                     dropout, wide_and_deep, single_final_hidden_layer, \n",
    "                     learning_rate)\n",
    "     \n",
    "    model.summary()\n",
    "    \n",
    "    # Train model\n",
    "    history = model.fit(X_train_sc,\n",
    "                        y_train,\n",
    "                        epochs = max_epoch,\n",
    "                        batch_size = calculation_batch_size,\n",
    "                        validation_data = (X_test_sc, y_test),\n",
    "                        verbose = 0)\n",
    "            \n",
    "    ### Test model (print results for each k-fold iteration)\n",
    "    probability = model.predict(X_train_sc)\n",
    "    y_pred_train = probability >= 0.5\n",
    "    y_pred_train = y_pred_train.flatten()\n",
    "    accuracy_train = np.mean(y_pred_train == y_train)\n",
    "    training_acc_results.append(accuracy_train)\n",
    "\n",
    "    probability = model.predict(X_test_sc)\n",
    "    y_pred_test = probability >= 0.5\n",
    "    y_pred_test = y_pred_test.flatten()\n",
    "    accuracy_test = np.mean(y_pred_test == y_test)\n",
    "    test_acc_results.append(accuracy_test)"
   ]
  },
  {
   "cell_type": "markdown",
   "metadata": {},
   "source": [
    "# Create and save as png file a visualisation of the neural network structure\n",
    "\n",
    "This needs a pip or conda install pydot and graphviz (included in the tensorflow_batch environment)"
   ]
  },
  {
   "cell_type": "code",
   "execution_count": 16,
   "metadata": {
    "execution": {
     "iopub.execute_input": "2021-02-16T15:28:24.836557Z",
     "iopub.status.busy": "2021-02-16T15:28:24.836187Z",
     "iopub.status.idle": "2021-02-16T15:28:24.919833Z",
     "shell.execute_reply": "2021-02-16T15:28:24.919503Z"
    }
   },
   "outputs": [
    {
     "data": {
      "image/png": "[encoded data removed]",
      "text/plain": [
       "<IPython.core.display.Image object>"
      ]
     },
     "execution_count": 1,
     "metadata": {},
     "output_type": "execute_result"
    }
   ],
   "source": [
    "model_path = f\"{output_folder}/{model_name}\"\n",
    "\n",
    "keras.utils.plot_model(model, f\"{model_path}.png\", show_shapes=True)"
   ]
  },
  {
   "cell_type": "markdown",
   "metadata": {},
   "source": [
    "## Show training and test results"
   ]
  },
  {
   "cell_type": "code",
   "execution_count": 17,
   "metadata": {
    "execution": {
     "iopub.execute_input": "2021-02-16T15:28:24.922708Z",
     "iopub.status.busy": "2021-02-16T15:28:24.922338Z",
     "iopub.status.idle": "2021-02-16T15:28:24.924224Z",
     "shell.execute_reply": "2021-02-16T15:28:24.924521Z"
    }
   },
   "outputs": [
    {
     "data": {
      "text/plain": [
       "[0.7050561797752809,\n",
       " 0.7769985974754559,\n",
       " 0.6535764375876578,\n",
       " 0.6563814866760168,\n",
       " 0.6577840112201964]"
      ]
     },
     "execution_count": 1,
     "metadata": {},
     "output_type": "execute_result"
    }
   ],
   "source": [
    "# Show individual accuracies on training data\n",
    "training_acc_results"
   ]
  },
  {
   "cell_type": "code",
   "execution_count": 18,
   "metadata": {
    "execution": {
     "iopub.execute_input": "2021-02-16T15:28:24.926927Z",
     "iopub.status.busy": "2021-02-16T15:28:24.926572Z",
     "iopub.status.idle": "2021-02-16T15:28:24.928540Z",
     "shell.execute_reply": "2021-02-16T15:28:24.928234Z"
    }
   },
   "outputs": [
    {
     "data": {
      "text/plain": [
       "[0.6424581005586593,\n",
       " 0.7640449438202247,\n",
       " 0.6573033707865169,\n",
       " 0.6629213483146067,\n",
       " 0.6797752808988764]"
      ]
     },
     "execution_count": 1,
     "metadata": {},
     "output_type": "execute_result"
    }
   ],
   "source": [
    "# Show individual accuracies on test data\n",
    "test_acc_results"
   ]
  },
  {
   "cell_type": "code",
   "execution_count": 19,
   "metadata": {
    "execution": {
     "iopub.execute_input": "2021-02-16T15:28:24.931318Z",
     "iopub.status.busy": "2021-02-16T15:28:24.930961Z",
     "iopub.status.idle": "2021-02-16T15:28:24.932597Z",
     "shell.execute_reply": "2021-02-16T15:28:24.932887Z"
    }
   },
   "outputs": [
    {
     "name": "stdout",
     "output_type": "stream",
     "text": [
      "mean accuracy (across all 5 k-folds) for training set: 0.6899593425469216\n",
      "mean accuracy (across all 5 k-folds) for test set: 0.6813006088757768\n"
     ]
    }
   ],
   "source": [
    "# Get mean results\n",
    "mean_training = np.mean(training_acc_results)\n",
    "mean_test = np.mean(test_acc_results)\n",
    "\n",
    "# Display each to three decimal places\n",
    "print (f\"mean accuracy (across all {number_kfold} k-folds) for training set: {mean_training}\")\n",
    "print (f\"mean accuracy (across all {number_kfold} k-folds) for test set: {mean_test}\")"
   ]
  },
  {
   "cell_type": "markdown",
   "metadata": {},
   "source": [
    "## Plot results: Box Plot\n",
    "\n",
    "Box plots show median (orange line), the second and third quartiles (the box), the range (excluding outliers), and any outliers as 'whisker' points. Outliers, by convention, are conisiered to be any points outside of the quartiles +/- 1.5 times the interquartile range. The limit for outliers may be changed using the optional `whis` argument in the boxplot.\n",
    "\n",
    "Medians tend to be an easy reliable guide to the centre of a distribution (i.e. look at the medians to see whether a fit is improving or not, but also look at the box plot to see how much variability there is).\n",
    "\n",
    "Test sets tend to be more variable in their accuracy measures. Can you think why?"
   ]
  },
  {
   "cell_type": "code",
   "execution_count": 20,
   "metadata": {
    "execution": {
     "iopub.execute_input": "2021-02-16T15:28:24.936970Z",
     "iopub.status.busy": "2021-02-16T15:28:24.934353Z",
     "iopub.status.idle": "2021-02-16T15:28:25.186509Z",
     "shell.execute_reply": "2021-02-16T15:28:25.186187Z"
    }
   },
   "outputs": [
    {
     "data": {
      "image/png": "[encoded data removed]",
      "text/plain": [
       "<Figure size 360x360 with 1 Axes>"
      ]
     },
     "metadata": {
      "needs_background": "light"
     },
     "output_type": "display_data"
    }
   ],
   "source": [
    "import matplotlib.pyplot as plt\n",
    "%matplotlib inline\n",
    "\n",
    "# Set up X data \n",
    "x_for_box = [training_acc_results, test_acc_results]\n",
    "\n",
    "# Set up X labels\n",
    "labels = ['Training', 'Test'] \n",
    "\n",
    "# Set up figure\n",
    "fig = plt.figure(figsize=(5,5))\n",
    "\n",
    "# Add subplot (can be used to define multiple plots in same figure)\n",
    "ax1 = fig.add_subplot(111)\n",
    "\n",
    "# Define Box Plot (`widths` is optional)\n",
    "ax1.boxplot(x_for_box, \n",
    "            widths=0.7,\n",
    "            whis=100)\n",
    "\n",
    "# Set X and Y labels\n",
    "ax1.set_xticklabels(labels)\n",
    "ax1.set_ylabel('Accuracy')\n",
    "\n",
    "# Show plot\n",
    "plt.show()"
   ]
  },
  {
   "cell_type": "markdown",
   "metadata": {},
   "source": [
    "## Using TensorFlow's training history\n",
    "\n",
    "TensorFlow can track the history of training, enabling us to examine performance against training and test sets over time. Here we will use the same model as above, but without k-fold validation and with history tracking.\n",
    "`history` is a dictionary containing data collected during training. Let's take a look at the keys in this dictionary (these are the metrics monitored during training):"
   ]
  },
  {
   "cell_type": "code",
   "execution_count": 21,
   "metadata": {
    "execution": {
     "iopub.execute_input": "2021-02-16T15:28:25.189113Z",
     "iopub.status.busy": "2021-02-16T15:28:25.188760Z",
     "iopub.status.idle": "2021-02-16T15:28:25.191098Z",
     "shell.execute_reply": "2021-02-16T15:28:25.190729Z"
    }
   },
   "outputs": [
    {
     "data": {
      "text/plain": [
       "dict_keys(['loss', 'accuracy', 'val_loss', 'val_accuracy'])"
      ]
     },
     "execution_count": 1,
     "metadata": {},
     "output_type": "execute_result"
    }
   ],
   "source": [
    "history_dict = history.history\n",
    "history_dict.keys()"
   ]
  },
  {
   "cell_type": "markdown",
   "metadata": {},
   "source": [
    "Plot training history:"
   ]
  },
  {
   "cell_type": "code",
   "execution_count": 22,
   "metadata": {
    "execution": {
     "iopub.execute_input": "2021-02-16T15:28:25.199767Z",
     "iopub.status.busy": "2021-02-16T15:28:25.198064Z",
     "iopub.status.idle": "2021-02-16T15:28:25.433455Z",
     "shell.execute_reply": "2021-02-16T15:28:25.433077Z"
    }
   },
   "outputs": [
    {
     "data": {
      "image/png": "[encoded data removed]",
      "text/plain": [
       "<Figure size 432x288 with 1 Axes>"
      ]
     },
     "metadata": {
      "needs_background": "light"
     },
     "output_type": "display_data"
    }
   ],
   "source": [
    "import matplotlib.pyplot as plt\n",
    "%matplotlib inline\n",
    "\n",
    "acc_values = history_dict['accuracy']\n",
    "val_acc_values = history_dict['val_accuracy']\n",
    "epochs = range(1, len(acc_values) + 1)\n",
    "\n",
    "plt.plot(epochs, acc_values, 'bo', label='Training acc')\n",
    "plt.plot(epochs, val_acc_values, 'b', label='Test accuracy')\n",
    "plt.title('Training and validation accuracy')\n",
    "plt.xlabel('Epochs')\n",
    "plt.ylabel('Accuracy')\n",
    "plt.legend(loc='center left', bbox_to_anchor=(1, 0.5))\n",
    "plt.show()"
   ]
  },
  {
   "cell_type": "markdown",
   "metadata": {},
   "source": [
    "## Getting model weights\n",
    "\n",
    "Here we show how weights for a layer can be extracted from the model if required."
   ]
  },
  {
   "cell_type": "code",
   "execution_count": 23,
   "metadata": {
    "execution": {
     "iopub.execute_input": "2021-02-16T15:28:25.436131Z",
     "iopub.status.busy": "2021-02-16T15:28:25.435777Z",
     "iopub.status.idle": "2021-02-16T15:28:25.438134Z",
     "shell.execute_reply": "2021-02-16T15:28:25.437757Z"
    }
   },
   "outputs": [
    {
     "data": {
      "text/plain": [
       "'dense'"
      ]
     },
     "execution_count": 1,
     "metadata": {},
     "output_type": "execute_result"
    }
   ],
   "source": [
    "hidden1 = model.layers[1]\n",
    "hidden1.name"
   ]
  },
  {
   "cell_type": "code",
   "execution_count": 24,
   "metadata": {
    "execution": {
     "iopub.execute_input": "2021-02-16T15:28:25.440375Z",
     "iopub.status.busy": "2021-02-16T15:28:25.440021Z",
     "iopub.status.idle": "2021-02-16T15:28:25.443118Z",
     "shell.execute_reply": "2021-02-16T15:28:25.442752Z"
    }
   },
   "outputs": [
    {
     "data": {
      "text/plain": [
       "(24, 24)"
      ]
     },
     "execution_count": 1,
     "metadata": {},
     "output_type": "execute_result"
    }
   ],
   "source": [
    "weights, biases = hidden1.get_weights() # Biases are not used in this model\n",
    "weights.shape"
   ]
  },
  {
   "cell_type": "code",
   "execution_count": 25,
   "metadata": {
    "execution": {
     "iopub.execute_input": "2021-02-16T15:28:25.449409Z",
     "iopub.status.busy": "2021-02-16T15:28:25.445005Z",
     "iopub.status.idle": "2021-02-16T15:28:25.451647Z",
     "shell.execute_reply": "2021-02-16T15:28:25.451337Z"
    }
   },
   "outputs": [
    {
     "data": {
      "text/plain": [
       "array([[-2.54270524e-01,  5.03623299e-02,  3.07922632e-01,\n",
       "        -2.85000671e-02,  2.09226787e-01, -3.11699033e-01,\n",
       "         2.33073100e-01, -1.82309017e-01, -2.34527797e-01,\n",
       "         7.68005624e-02, -1.53197140e-01, -3.35537293e-03,\n",
       "         3.32700431e-01, -6.82343394e-02,  2.90091306e-01,\n",
       "         2.99275786e-01,  3.22856277e-01, -4.00452837e-02,\n",
       "         2.04118446e-01,  3.39852124e-01, -1.62073568e-01,\n",
       "         2.76172340e-01, -1.39123900e-02,  1.48368821e-01],\n",
       "       [ 3.72850299e-01, -2.84218550e-01,  3.07544500e-01,\n",
       "         1.85082689e-01, -1.43376410e-01,  1.03664868e-01,\n",
       "         2.24745587e-01, -1.47265941e-01,  2.93042094e-01,\n",
       "        -1.36778370e-01, -1.18260428e-01, -6.65868074e-02,\n",
       "         2.77783573e-01,  8.62814039e-02,  1.18195184e-01,\n",
       "         4.84418795e-02, -2.04919815e-01, -9.98175517e-02,\n",
       "        -3.67393225e-01,  1.48446951e-02, -3.36227752e-03,\n",
       "        -2.56534755e-01,  2.27789044e-01, -1.83768570e-01],\n",
       "       [-3.48371267e-01,  9.86339748e-02,  3.13054234e-01,\n",
       "        -2.35925213e-01, -1.63372934e-01,  9.37361568e-02,\n",
       "        -3.44452322e-01, -1.54512515e-02, -9.99611840e-02,\n",
       "         1.91016737e-02,  2.27424011e-01,  1.89837351e-01,\n",
       "        -4.57881391e-02,  1.79830581e-01, -1.92028567e-01,\n",
       "         7.44354054e-02,  2.44330689e-01, -6.39821589e-02,\n",
       "         2.11334229e-02,  3.22194159e-01,  2.73329198e-01,\n",
       "         3.38249266e-01,  6.21866733e-02,  4.51239431e-03],\n",
       "       [-2.59266824e-01,  9.78716463e-02,  1.51697770e-01,\n",
       "         5.19312359e-02, -2.23322988e-01, -3.47811937e-01,\n",
       "         8.82807449e-02, -3.52116615e-01, -1.07525676e-01,\n",
       "         2.88119227e-01, -1.33970425e-01, -3.22580934e-01,\n",
       "         1.73900396e-01,  2.01303422e-01,  2.14606464e-01,\n",
       "         5.36790118e-02, -1.54098794e-01, -1.02467105e-01,\n",
       "         1.57484472e-01, -7.70685822e-03, -2.34420244e-02,\n",
       "         3.51698816e-01, -4.85364087e-02,  9.09053683e-02],\n",
       "       [-2.39262938e-01, -1.78585753e-01,  3.10398787e-01,\n",
       "         9.77181364e-03,  1.48046210e-01,  3.97356227e-02,\n",
       "         3.38650286e-01,  5.22444472e-02,  2.81079784e-02,\n",
       "        -2.84038246e-01, -2.35132203e-02, -1.27866209e-01,\n",
       "         2.58646309e-01,  2.28705153e-01,  1.73402637e-01,\n",
       "         1.47097437e-02, -2.69107550e-01, -3.63784373e-01,\n",
       "         2.28783131e-01, -1.82099387e-01, -1.94099903e-01,\n",
       "         1.00142203e-01, -3.50691408e-01,  6.09872006e-02],\n",
       "       [-2.99245268e-01, -2.32134219e-02, -2.12921008e-01,\n",
       "         3.18173915e-01,  6.81169331e-02,  5.89052476e-02,\n",
       "         2.50619113e-01, -2.49064833e-01,  6.80610165e-02,\n",
       "         6.98259752e-03, -1.84383765e-01, -1.49510831e-01,\n",
       "        -2.94080466e-01, -2.37208128e-01, -2.41509497e-01,\n",
       "        -2.91578412e-01,  1.28437594e-01,  1.21864632e-01,\n",
       "        -4.60981168e-02,  2.72707462e-01,  3.49961132e-01,\n",
       "        -2.13892087e-01, -8.65016654e-02, -2.11519077e-01],\n",
       "       [ 1.55151397e-01,  1.32870883e-01, -3.09355948e-02,\n",
       "        -1.56104520e-01, -7.05230534e-02, -1.22939043e-01,\n",
       "         3.56581599e-01, -1.47268757e-01,  3.14785033e-01,\n",
       "        -9.84058976e-02,  2.45709032e-01, -3.37631732e-01,\n",
       "         2.46079355e-01,  1.00929834e-01,  2.98076838e-01,\n",
       "         2.49094486e-01, -1.31264254e-01, -1.48892375e-02,\n",
       "        -2.51966745e-01,  1.58186048e-01,  3.93175818e-02,\n",
       "         1.14357293e-01, -2.19750881e-01,  3.00998110e-02],\n",
       "       [ 2.16303498e-01, -8.71416647e-03,  2.48313114e-01,\n",
       "         1.58765867e-01,  2.50834644e-01, -1.34747595e-01,\n",
       "         6.35344721e-03,  3.52106214e-01,  2.23812357e-01,\n",
       "        -2.78374344e-01,  2.69999038e-02, -6.69091046e-02,\n",
       "        -2.58033931e-01, -3.50736380e-01,  2.01238006e-01,\n",
       "        -1.61862820e-01, -1.59045130e-01,  1.01453513e-02,\n",
       "         2.96736151e-01,  1.22040622e-01, -1.06584027e-01,\n",
       "        -1.90352257e-02,  1.53971806e-01, -2.63431758e-01],\n",
       "       [-2.26876795e-01, -2.78344661e-01, -1.01117725e-02,\n",
       "         3.26800287e-01, -9.64475796e-02, -6.88569620e-02,\n",
       "         7.77465403e-02, -3.01820189e-01, -2.69909620e-01,\n",
       "        -1.05368480e-01, -2.96125144e-01, -1.86087295e-01,\n",
       "        -2.33474120e-01,  1.70868605e-01,  3.33363652e-01,\n",
       "        -6.45744130e-02, -3.20702016e-01,  8.06387812e-02,\n",
       "        -6.44518957e-02, -2.81274766e-01, -2.89589673e-01,\n",
       "         3.46087396e-01, -5.34536131e-03,  1.32026598e-01],\n",
       "       [-1.23637021e-01,  2.14103892e-01, -3.13268416e-02,\n",
       "        -1.27925038e-01, -3.82082909e-02, -6.67239651e-02,\n",
       "         1.64646089e-01, -1.11019559e-01,  4.01013166e-01,\n",
       "         5.26992716e-02,  3.63951355e-01,  1.37765065e-01,\n",
       "        -2.11578026e-01, -2.51440734e-01, -1.23193949e-01,\n",
       "        -2.20954970e-01,  1.64992392e-01, -3.81488993e-04,\n",
       "        -8.04751813e-02, -3.39123487e-01, -9.91325676e-02,\n",
       "        -1.24091737e-01, -2.41593957e-01, -1.42091930e-01],\n",
       "       [ 2.95992255e-01,  8.53949189e-02, -2.18426228e-01,\n",
       "        -5.19816764e-02, -1.88470244e-01,  2.61738524e-02,\n",
       "        -3.43239978e-02,  2.04657018e-02, -1.69305906e-01,\n",
       "        -3.29048783e-01,  3.92424762e-01, -2.50351667e-01,\n",
       "         2.87359059e-01, -1.73110105e-02,  2.39793077e-01,\n",
       "         1.67965174e-01, -2.29253292e-01, -2.44208857e-01,\n",
       "         2.24931628e-01,  3.62162501e-01,  2.54644752e-01,\n",
       "        -1.07181497e-01,  1.51674345e-01, -1.30545735e-01],\n",
       "       [ 9.61530879e-02, -3.66806909e-02,  2.27035899e-02,\n",
       "        -1.46203056e-01, -1.63566172e-01,  1.77759334e-01,\n",
       "         1.99344680e-01, -1.56434223e-01,  1.05701864e-01,\n",
       "         1.23931699e-01, -1.40520781e-01,  6.59793764e-02,\n",
       "        -1.03366025e-01,  2.72835225e-01,  3.08064401e-01,\n",
       "         2.67345041e-01,  8.80213603e-02,  2.16313779e-01,\n",
       "         2.44123444e-01,  2.10796505e-01, -2.07863286e-01,\n",
       "        -2.10860118e-01, -1.17405944e-01, -1.75283417e-01],\n",
       "       [-2.63945699e-01, -1.35341763e-01, -3.17387581e-01,\n",
       "        -2.71699548e-01,  1.62629440e-01, -9.00087953e-02,\n",
       "         1.92134693e-01, -2.72226334e-01, -8.55321065e-02,\n",
       "         3.28574896e-01,  3.03604096e-01,  3.16411525e-01,\n",
       "        -3.31024468e-01,  2.95762837e-01,  2.26891935e-01,\n",
       "         6.51051253e-02, -3.01663876e-01, -3.07401389e-01,\n",
       "         1.33263275e-01, -1.64764486e-02, -1.29864886e-01,\n",
       "         3.04476112e-01, -1.91242829e-01,  2.63808936e-01],\n",
       "       [ 7.51974434e-02, -2.61652976e-01,  8.93391892e-02,\n",
       "         3.33147764e-01,  1.45934656e-01, -2.35098645e-01,\n",
       "         2.57810295e-01,  3.07726502e-01,  9.91147235e-02,\n",
       "        -1.97819695e-01, -1.30476981e-01, -2.74541110e-01,\n",
       "        -4.05143350e-02,  2.67320007e-01, -3.13518822e-01,\n",
       "         2.04671845e-01, -2.67919838e-01, -3.54301631e-01,\n",
       "        -1.19646788e-01,  2.17694901e-02, -1.87151805e-01,\n",
       "         2.93125540e-01,  5.31441011e-02, -4.64467006e-03],\n",
       "       [-1.37618393e-01, -2.56720066e-01,  8.74637663e-02,\n",
       "         2.33599469e-01,  2.64564008e-01,  5.31296097e-02,\n",
       "        -2.60166556e-01,  8.09514523e-03, -2.47916266e-01,\n",
       "        -2.64578193e-01,  1.31848529e-01, -2.00082123e-01,\n",
       "         1.78520009e-02, -1.29126936e-01,  1.66060194e-01,\n",
       "        -1.02095410e-01,  6.49838746e-02,  2.01052025e-01,\n",
       "         2.70049185e-01, -3.26774538e-01,  1.64984927e-01,\n",
       "        -1.00483656e-01, -3.44099402e-02,  3.06901813e-01],\n",
       "       [-2.35752195e-01,  2.86797553e-01, -1.45209417e-01,\n",
       "         8.74676276e-03, -1.60657287e-01, -1.66126743e-01,\n",
       "        -1.43790200e-01, -1.79146782e-01,  2.03924075e-01,\n",
       "         2.13602498e-01, -7.55473599e-02, -2.61230290e-01,\n",
       "        -2.77237386e-01, -8.55019465e-02, -3.00707906e-01,\n",
       "        -3.80362272e-02, -1.44808814e-01,  2.99309213e-02,\n",
       "        -2.98224092e-02,  3.08362365e-01, -3.34903061e-01,\n",
       "        -1.49315894e-01, -1.28548324e-01, -2.96910971e-01],\n",
       "       [-3.39927584e-01, -1.60824701e-01,  2.45605722e-01,\n",
       "        -1.37662426e-01, -1.74407139e-01,  1.20119967e-01,\n",
       "         2.62341797e-01,  2.46373452e-02, -1.38134077e-01,\n",
       "         1.07799225e-01,  2.98118860e-01,  3.69375981e-02,\n",
       "        -2.79574879e-02,  2.52456754e-01,  3.08303237e-02,\n",
       "         1.67973325e-01, -1.26248360e-01,  1.13562271e-01,\n",
       "        -3.08076859e-01,  9.43091288e-02,  2.01949000e-01,\n",
       "        -1.68949902e-01, -2.51614869e-01,  4.81451042e-02],\n",
       "       [-1.51148662e-01, -3.28070223e-01,  3.25008512e-01,\n",
       "        -2.07439482e-01,  4.08662073e-02, -1.80990458e-01,\n",
       "        -1.76117972e-01,  1.01436786e-01, -2.34524190e-01,\n",
       "         1.17151625e-01,  2.45385110e-01, -2.65748858e-01,\n",
       "         2.36133888e-01,  2.52686054e-01,  5.02090640e-02,\n",
       "        -3.35293323e-01, -1.52797580e-01, -1.53990373e-01,\n",
       "         2.68059671e-02,  2.11220980e-01,  1.08786765e-02,\n",
       "         3.14685017e-01,  3.29916596e-01,  9.23455358e-02],\n",
       "       [ 1.03689358e-01, -1.92428946e-01, -2.40271352e-02,\n",
       "         9.41100121e-02, -2.90708482e-01,  3.04224361e-02,\n",
       "         3.17458987e-01,  1.50952101e-01, -3.22452277e-01,\n",
       "         3.35930854e-01,  1.43167332e-01, -1.69912800e-02,\n",
       "        -2.84469068e-01,  8.48570913e-02,  2.83398002e-01,\n",
       "        -3.60878795e-01, -2.74427235e-01,  3.40679914e-01,\n",
       "        -2.21483633e-02,  3.21382843e-02,  3.80275734e-02,\n",
       "        -2.92534590e-01, -7.03622727e-03,  2.63535112e-01],\n",
       "       [-7.14432672e-02,  2.09028527e-01, -2.34941691e-01,\n",
       "        -1.37255296e-01,  3.04088257e-02, -1.05030470e-01,\n",
       "         1.09130539e-01, -7.80869392e-04, -1.37742907e-01,\n",
       "        -7.08157644e-02, -1.73449367e-01,  8.56386647e-02,\n",
       "        -1.63948864e-01,  3.32210064e-01,  1.68117464e-01,\n",
       "         1.21524461e-01, -1.35649800e-01,  2.68679440e-01,\n",
       "         1.80205733e-01, -3.45178068e-01,  5.48160151e-02,\n",
       "        -7.66013935e-02, -7.59209171e-02,  3.11965019e-01],\n",
       "       [-2.98123956e-01, -4.98346351e-02, -1.46369979e-01,\n",
       "         4.38741557e-02,  1.87970415e-01, -1.04461551e-01,\n",
       "        -2.89854348e-01, -2.77812898e-01,  1.95735559e-01,\n",
       "         1.72257870e-01,  1.01671711e-01,  1.93156347e-01,\n",
       "        -1.61579400e-02,  2.30284154e-01,  2.83644736e-01,\n",
       "        -2.37557665e-01, -2.34696448e-01, -1.66928187e-01,\n",
       "         3.30592275e-01,  2.95518398e-01,  2.76689585e-02,\n",
       "         9.75626484e-02, -1.28594324e-01,  1.69963628e-01],\n",
       "       [-2.44874954e-01,  1.51339382e-01,  2.27426022e-01,\n",
       "        -1.88959002e-01,  4.09962572e-02,  2.57350057e-01,\n",
       "         9.71961170e-02,  3.58032025e-02, -1.30245984e-01,\n",
       "         2.47517318e-01, -3.12883615e-01,  2.24374563e-01,\n",
       "         2.49301836e-01, -1.88495457e-01,  8.91021192e-02,\n",
       "        -3.00290491e-02,  1.89187184e-01,  7.42645264e-02,\n",
       "        -3.26077193e-01, -2.04018354e-01, -2.46522486e-01,\n",
       "        -1.51434094e-01,  2.25949988e-01, -7.63835758e-02],\n",
       "       [ 2.35449776e-01, -3.29742938e-01, -8.99477005e-02,\n",
       "        -5.48481680e-02, -3.11869889e-01,  2.85011381e-01,\n",
       "         2.25747630e-01,  2.83894949e-02,  2.96705782e-01,\n",
       "         2.14241952e-01, -1.73042864e-01, -6.79410696e-02,\n",
       "        -2.30237603e-01, -2.85957277e-01, -1.18600130e-01,\n",
       "        -3.02996129e-01, -1.22877792e-01,  2.80520022e-02,\n",
       "         6.32782578e-02, -2.43720114e-02, -2.29345351e-01,\n",
       "         1.87782854e-01, -1.78021461e-01, -2.43483931e-01],\n",
       "       [-2.64813095e-01, -2.51056701e-01,  2.03192197e-02,\n",
       "        -2.75894344e-01,  1.94708079e-01,  1.63581103e-01,\n",
       "        -4.50513475e-02,  4.70301621e-02,  1.42605692e-01,\n",
       "        -1.24025857e-03, -1.86368763e-01, -2.47554034e-01,\n",
       "         3.00939083e-01,  6.60117418e-02,  1.50764152e-01,\n",
       "         1.15470037e-01, -3.15518051e-01, -2.55293429e-01,\n",
       "        -1.68606371e-01,  2.12418567e-02,  1.12874001e-01,\n",
       "         3.24537367e-01,  2.47810528e-01, -2.02172175e-02]], dtype=float32)"
      ]
     },
     "execution_count": 1,
     "metadata": {},
     "output_type": "execute_result"
    }
   ],
   "source": [
    "weights"
   ]
  },
  {
   "cell_type": "markdown",
   "metadata": {},
   "source": [
    "## Evaluating model\n",
    "\n",
    "If a test set is not used to evaluate in training, or if there is an independnent test set, evaluation may be quickly performed using the `evaluate` method."
   ]
  },
  {
   "cell_type": "code",
   "execution_count": 26,
   "metadata": {
    "execution": {
     "iopub.execute_input": "2021-02-16T15:28:25.454357Z",
     "iopub.status.busy": "2021-02-16T15:28:25.454003Z",
     "iopub.status.idle": "2021-02-16T15:28:25.479052Z",
     "shell.execute_reply": "2021-02-16T15:28:25.479416Z"
    }
   },
   "outputs": [
    {
     "name": "stdout",
     "output_type": "stream",
     "text": [
      "\r",
      " 32/178 [====>.........................] - ETA: 0s - loss: 0.6316 - accuracy: 0.5625"
     ]
    },
    {
     "name": "stdout",
     "output_type": "stream",
     "text": [
      "\b\b\b\b\b\b\b\b\b\b\b\b\b\b\b\b\b\b\b\b\b\b\b\b\b\b\b\b\b\b\b\b\b\b\b\b\b\b\b\b\b\b\b\b\b\b\b\b\b\b\b\b\b\b\b\b\b\b\b\b\b\b\b\b\b\b\b\b\b\b\b\b\b\b\b\b\b\b\b\b\b\b\b\b\r",
      "178/178 [==============================] - 0s 43us/sample - loss: 0.5812 - accuracy: 0.6798\n"
     ]
    },
    {
     "data": {
      "text/plain": [
       "[0.5812178957328368, 0.6797753]"
      ]
     },
     "execution_count": 1,
     "metadata": {},
     "output_type": "execute_result"
    }
   ],
   "source": [
    "model.evaluate(X_test_sc, y_test)"
   ]
  }
 ],
 "metadata": {
  "kernelspec": {
   "display_name": "Python 3",
   "language": "python",
   "name": "python3"
  },
  "language_info": {
   "codemirror_mode": {
    "name": "ipython",
    "version": 3
   },
   "file_extension": ".py",
   "mimetype": "text/x-python",
   "name": "python",
   "nbconvert_exporter": "python",
   "pygments_lexer": "ipython3",
   "version": "3.7.6"
  }
 },
 "nbformat": 4,
 "nbformat_minor": 4
}
