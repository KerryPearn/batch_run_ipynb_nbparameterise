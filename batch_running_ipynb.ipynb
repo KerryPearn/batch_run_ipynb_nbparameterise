{
 "cells": [
  {
   "cell_type": "markdown",
   "id": "sorted-ethics",
   "metadata": {},
   "source": [
    "# Running Jupyter notebooks in batch\n",
    "\n",
    "Using nbparameterise API to substitute variables in 'batch mode'\n",
    "\n",
    "1. https://github.com/takluyver/nbparameterise\n",
    "1. https://pypi.org/project/nbparameterise/"
   ]
  },
  {
   "cell_type": "markdown",
   "id": "blond-australian",
   "metadata": {},
   "source": [
    "Import libraries necessary for nbparameterise"
   ]
  },
  {
   "cell_type": "code",
   "execution_count": 1,
   "id": "stuck-daisy",
   "metadata": {},
   "outputs": [],
   "source": [
    "from nbclient import execute\n",
    "import nbformat\n",
    "from nbparameterise import extract_parameters, parameter_values, \\\n",
    "    replace_definitions"
   ]
  },
  {
   "cell_type": "markdown",
   "id": "modern-coaching",
   "metadata": {},
   "source": [
    "Import other libraries"
   ]
  },
  {
   "cell_type": "code",
   "execution_count": 2,
   "id": "central-seattle",
   "metadata": {},
   "outputs": [],
   "source": [
    "import random\n",
    "import time"
   ]
  },
  {
   "cell_type": "markdown",
   "id": "arbitrary-baking",
   "metadata": {},
   "source": [
    "Function to create string for output folder name (different for each batch run)"
   ]
  },
  {
   "cell_type": "code",
   "execution_count": 3,
   "id": "african-discount",
   "metadata": {},
   "outputs": [],
   "source": [
    "def create_date_time_string():\n",
    "    # use current date time to create a string of the form:\n",
    "    # yymmdd_hhmmss\n",
    "    \n",
    "    now_t = time.strftime(\"%H:%M:%S\")\n",
    "    now_d = time.strftime(\"%d/%m/%Y\")\n",
    "\n",
    "    now_t = now_t.replace(\":\",\"\")\n",
    "    now_d = now_d.replace(\"/\",\"\")\n",
    "    now_d = now_d[6:8] + now_d[2:4] + now_d[0:2]\n",
    "    \n",
    "    date_time_string = now_d + \"_\" + now_t\n",
    "    \n",
    "    return (str(date_time_string))"
   ]
  },
  {
   "cell_type": "code",
   "execution_count": 4,
   "id": "nutritional-korea",
   "metadata": {},
   "outputs": [],
   "source": [
    "date_time_string = create_date_time_string()\n",
    "output_folder_str = f\"{date_time_string}_output\""
   ]
  },
  {
   "cell_type": "markdown",
   "id": "objective-activity",
   "metadata": {},
   "source": [
    "For each parameter to change (those in the first cell of the ipynb to be run in batch), create a lists of the available values."
   ]
  },
  {
   "cell_type": "code",
   "execution_count": 5,
   "id": "rural-receipt",
   "metadata": {},
   "outputs": [],
   "source": [
    "# define the network structure\n",
    "number_hidden_layers_list =  [1, 2, 3]\n",
    "number_nodes_list = [1, 2, 3, 4, 5, 6, 7, 8, 9, 10]\n",
    "dropout_list = [0.25, 0.5]\n",
    "wide_and_deep_list = [0, 1]\n",
    "single_final_hidden_layer_list = [0]\n",
    "learning_rate_list = [0.001, 0.003, 0.01]\n",
    "calculation_batch_size_list = [32, 64, 512]\n",
    "kfold_list = [5]\n",
    "epoch_list = [5]\n",
    "output_folder_list = [output_folder_str]"
   ]
  },
  {
   "cell_type": "markdown",
   "id": "global-azerbaijan",
   "metadata": {},
   "source": [
    "Define the run parameters"
   ]
  },
  {
   "cell_type": "code",
   "execution_count": 6,
   "id": "duplicate-vatican",
   "metadata": {},
   "outputs": [],
   "source": [
    "#the ipynb to run in batch\n",
    "input_filename = \"tensorflow_api\"\n",
    "\n",
    "#how many times to run the ipynb\n",
    "number_runs = 5"
   ]
  },
  {
   "cell_type": "markdown",
   "id": "middle-background",
   "metadata": {},
   "source": [
    "Initialise lists to hold the parameter values for each of the runs"
   ]
  },
  {
   "cell_type": "code",
   "execution_count": 7,
   "id": "instructional-doubt",
   "metadata": {},
   "outputs": [],
   "source": [
    "hl = []\n",
    "nn = []\n",
    "do = []\n",
    "wd = []\n",
    "sl = []\n",
    "lr = []\n",
    "bs = []\n",
    "kf = []\n",
    "of = []\n",
    "ep = []"
   ]
  },
  {
   "cell_type": "markdown",
   "id": "encouraging-terrorist",
   "metadata": {},
   "source": [
    "Populate the lists with random choices for each parameter to use for each run"
   ]
  },
  {
   "cell_type": "code",
   "execution_count": 8,
   "id": "accepted-bibliography",
   "metadata": {},
   "outputs": [],
   "source": [
    "#generate random choices for the parameters\n",
    "for i in range(number_runs):\n",
    "    hl.append(number_hidden_layers_list[random.randint(0,2)])   \n",
    "    nn.append(number_nodes_list[random.randint(0,9)])   \n",
    "    do.append(dropout_list[random.randint(0,1)])   \n",
    "    wd.append(wide_and_deep_list[random.randint(0,1)])   \n",
    "    sl.append(single_final_hidden_layer_list[random.randint(0,0)])\n",
    "    lr.append(learning_rate_list[random.randint(0,2)])\n",
    "    bs.append(calculation_batch_size_list[random.randint(0,2)])\n",
    "    kf.append(kfold_list[random.randint(0,0)])\n",
    "    of.append(output_folder_list[random.randint(0,0)])\n",
    "    ep.append(epoch_list[random.randint(0,0)])"
   ]
  },
  {
   "cell_type": "markdown",
   "id": "paperback-division",
   "metadata": {},
   "source": [
    "Read in the ipynb and get the parameters (those in the first cell)"
   ]
  },
  {
   "cell_type": "code",
   "execution_count": 9,
   "id": "supposed-jimmy",
   "metadata": {},
   "outputs": [],
   "source": [
    "nb = nbformat.read(f\"{input_filename}.ipynb\", \n",
    "                   as_version=4)\n",
    "\n",
    "orig_parameters = extract_parameters(nb)"
   ]
  },
  {
   "cell_type": "markdown",
   "id": "decent-dialogue",
   "metadata": {},
   "source": [
    "For each of the runs, change the parameter values, run the notebook and save as a new notebook with a new name"
   ]
  },
  {
   "cell_type": "code",
   "execution_count": 10,
   "id": "interracial-america",
   "metadata": {},
   "outputs": [
    {
     "name": "stdout",
     "output_type": "stream",
     "text": [
      "\n",
      "        *****       \n",
      "1 of 5. Running for hidden layer: 1, node: 6, dropout: 0.5, wide and deep: 1, single final layer: 0, learning rate: 0.001, batch_size: 64, kfold: 5, epoch: 5 \n",
      "        *****       \n",
      "\n"
     ]
    },
    {
     "name": "stderr",
     "output_type": "stream",
     "text": [
      "/home/kerry/anaconda3/envs/tensorflow_batch/lib/python3.7/site-packages/ipykernel_launcher.py:33: UserWarning: Default execute=True for replace_definitions will change in a future version of nbparameterise. Pass execute=True if you need execution.\n"
     ]
    },
    {
     "name": "stdout",
     "output_type": "stream",
     "text": [
      "\n",
      "        *****       \n",
      "2 of 5. Running for hidden layer: 2, node: 1, dropout: 0.5, wide and deep: 0, single final layer: 0, learning rate: 0.001, batch_size: 32, kfold: 5, epoch: 5 \n",
      "        *****       \n",
      "\n",
      "\n",
      "        *****       \n",
      "3 of 5. Running for hidden layer: 3, node: 8, dropout: 0.5, wide and deep: 1, single final layer: 0, learning rate: 0.003, batch_size: 32, kfold: 5, epoch: 5 \n",
      "        *****       \n",
      "\n",
      "\n",
      "        *****       \n",
      "4 of 5. Running for hidden layer: 1, node: 6, dropout: 0.5, wide and deep: 0, single final layer: 0, learning rate: 0.001, batch_size: 64, kfold: 5, epoch: 5 \n",
      "        *****       \n",
      "\n",
      "\n",
      "        *****       \n",
      "5 of 5. Running for hidden layer: 2, node: 5, dropout: 0.5, wide and deep: 0, single final layer: 0, learning rate: 0.001, batch_size: 32, kfold: 5, epoch: 5 \n",
      "        *****       \n",
      "\n"
     ]
    }
   ],
   "source": [
    "# initialise run counter\n",
    "count_run = 0\n",
    "\n",
    "#for each value in all of the parameter lists\n",
    "for layer, node, dropo, w_d, single, learn, batch_size, kfold, folder, epoch \\\n",
    "    in zip(hl, nn, do, wd, sl, lr, bs, kf, of, ep):\n",
    "\n",
    "    # print a message to show where in the run the code is\n",
    "    count_run += 1\n",
    "    print(\"\")\n",
    "    print(\"        *****       \")\n",
    "    print(f\"{count_run} of {number_runs}. Running for hidden layer: {layer}, \"\n",
    "          f\"node: {node}, dropout: {dropo}, wide and deep: {w_d},\"\n",
    "          f\" single final layer: {single}, learning rate: {learn},\"\n",
    "          f\" batch_size: {batch_size}, kfold: {kfold}, epoch: {epoch} \")\n",
    "    print(\"        *****       \")\n",
    "    print(\"\")\n",
    "\n",
    "    # Update the parameters\n",
    "    params = parameter_values(orig_parameters, \n",
    "                              number_hidden_layers = layer,\n",
    "                              number_nodes = node, \n",
    "                              dropout = dropo, \n",
    "                              wide_and_deep = w_d, \n",
    "                              single_final_hidden_layer = single, \n",
    "                              learning_rate = learn, \n",
    "                              calculation_batch_size = batch_size,\n",
    "                              number_kfold = kfold,\n",
    "                              output_folder = folder,\n",
    "                              max_epoch = epoch)\n",
    "\n",
    "    # replace the parameter values and run the notebook\n",
    "    new_nb = replace_definitions(nb, params)\n",
    "    \n",
    "    # name the new notebook\n",
    "    learning_rate_str =  str(learn).replace(\"0.\", \"0-\")\n",
    "    dropout_str = str(dropo).replace(\"0.\", \"0-\")\n",
    "    scen_filename = (f\"_{layer}_{node}_{dropout_str}_{w_d}_{single}_\"\n",
    "                f\"{learning_rate_str}_{batch_size}_{kfold}_{epoch}\")\n",
    "      \n",
    "    with open(f\"{output_folder_str}/{input_filename}{scen_filename}.ipynb\", \n",
    "              'w') as f:\n",
    "        nbformat.write(new_nb, f)"
   ]
  }
 ],
 "metadata": {
  "kernelspec": {
   "display_name": "Python 3",
   "language": "python",
   "name": "python3"
  },
  "language_info": {
   "codemirror_mode": {
    "name": "ipython",
    "version": 3
   },
   "file_extension": ".py",
   "mimetype": "text/x-python",
   "name": "python",
   "nbconvert_exporter": "python",
   "pygments_lexer": "ipython3",
   "version": "3.7.6"
  }
 },
 "nbformat": 4,
 "nbformat_minor": 5
}
